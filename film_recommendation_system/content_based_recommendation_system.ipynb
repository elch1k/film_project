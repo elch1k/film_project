{
 "cells": [
  {
   "cell_type": "markdown",
   "metadata": {
    "id": "4NLB0Yb3TVsK"
   },
   "source": [
    "# Import dependencies, data and first glance on data"
   ]
  },
  {
   "cell_type": "code",
   "execution_count": null,
   "metadata": {
    "id": "6HUgWDhA6Ao7"
   },
   "outputs": [],
   "source": [
    "# packages for simplest dealing with data\n",
    "import pandas as pd\n",
    "import numpy as np\n",
    "\n",
    "# packages for dealing with text data\n",
    "from sklearn.feature_extraction.text import TfidfVectorizer\n",
    "from sklearn.metrics.pairwise import cosine_similarity\n",
    "import spacy\n",
    "from spacy.lang.en import stop_words\n",
    "nlp = spacy.load('en_core_web_sm')\n",
    "stop_words = stop_words.STOP_WORDS"
   ]
  },
  {
   "cell_type": "code",
   "execution_count": null,
   "metadata": {
    "id": "uG0X2yZZ6VIy"
   },
   "outputs": [],
   "source": [
    "# necessary data\n",
    "df_main = pd.read_csv('/content/drive/MyDrive/imdb_clean_titles_4_10.csv')\n",
    "df_summary = pd.read_json('/content/drive/MyDrive/title_summary.json')"
   ]
  },
  {
   "cell_type": "code",
   "execution_count": null,
   "metadata": {
    "colab": {
     "base_uri": "https://localhost:8080/",
     "height": 340
    },
    "id": "6HE44QOS6ugs",
    "outputId": "a25a2802-de03-433d-a4e4-cd43f4080980"
   },
   "outputs": [
    {
     "data": {
      "application/vnd.google.colaboratory.intrinsic+json": {
       "summary": "{\n  \"name\": \"df_main\",\n  \"rows\": 10896,\n  \"fields\": [\n    {\n      \"column\": \"original_title_name\",\n      \"properties\": {\n        \"dtype\": \"string\",\n        \"num_unique_values\": 10458,\n        \"samples\": [\n          \"The Cold Light of Day\",\n          \"Baadshah\",\n          \"Senseless\"\n        ],\n        \"semantic_type\": \"\",\n        \"description\": \"\"\n      }\n    },\n    {\n      \"column\": \"title_name\",\n      \"properties\": {\n        \"dtype\": \"string\",\n        \"num_unique_values\": 10383,\n        \"samples\": [\n          \"Look Who's Talking Now\",\n          \"God's Own Country\",\n          \"King Kong\"\n        ],\n        \"semantic_type\": \"\",\n        \"description\": \"\"\n      }\n    },\n    {\n      \"column\": \"poster\",\n      \"properties\": {\n        \"dtype\": \"string\",\n        \"num_unique_values\": 10896,\n        \"samples\": [\n          \"https://m.media-amazon.com/images/M/MV5BMTk2NDEwODU5M15BMl5BanBnXkFtZTcwNDMwNzc0Nw@@._V1_.jpg\",\n          \"https://m.media-amazon.com/images/M/MV5BMDNkNmNiYzYtYWY0YS00NWEwLTgwMWUtYjM0M2E4Nzk3MzhmXkEyXkFqcGc@._V1_.jpg\",\n          \"https://m.media-amazon.com/images/M/MV5BYzJmNjVlMTQtYWIyYy00NDc0LWI0NjAtNTJjYTAxMDE2ZWYyXkEyXkFqcGc@._V1_.jpg\"\n        ],\n        \"semantic_type\": \"\",\n        \"description\": \"\"\n      }\n    },\n    {\n      \"column\": \"rating_view\",\n      \"properties\": {\n        \"dtype\": \"category\",\n        \"num_unique_values\": 24,\n        \"samples\": [\n          \"G\",\n          \"X\",\n          \"Unrated\"\n        ],\n        \"semantic_type\": \"\",\n        \"description\": \"\"\n      }\n    },\n    {\n      \"column\": \"release_year\",\n      \"properties\": {\n        \"dtype\": \"number\",\n        \"std\": 17,\n        \"min\": 1915,\n        \"max\": 2025,\n        \"num_unique_values\": 108,\n        \"samples\": [\n          1958,\n          1976,\n          2022\n        ],\n        \"semantic_type\": \"\",\n        \"description\": \"\"\n      }\n    },\n    {\n      \"column\": \"country\",\n      \"properties\": {\n        \"dtype\": \"category\",\n        \"num_unique_values\": 1467,\n        \"samples\": [\n          \"Denmark, Sweden, France, Germany, Switzerland\",\n          \"United Kingdom, France, United States, Canada\",\n          \"United Kingdom, Ireland, Spain, France, Switzerland, United States\"\n        ],\n        \"semantic_type\": \"\",\n        \"description\": \"\"\n      }\n    },\n    {\n      \"column\": \"language\",\n      \"properties\": {\n        \"dtype\": \"category\",\n        \"num_unique_values\": 1582,\n        \"samples\": [\n          \"English, Polish, Yiddish\",\n          \"English, French, Klingon, Korean, Arabic\",\n          \"Turkish, English\"\n        ],\n        \"semantic_type\": \"\",\n        \"description\": \"\"\n      }\n    },\n    {\n      \"column\": \"title_duration_second\",\n      \"properties\": {\n        \"dtype\": \"number\",\n        \"std\": 1976.4580177370856,\n        \"min\": 180.0,\n        \"max\": 28020.0,\n        \"num_unique_values\": 218,\n        \"samples\": [\n          9600.0,\n          14400.0,\n          9720.0\n        ],\n        \"semantic_type\": \"\",\n        \"description\": \"\"\n      }\n    },\n    {\n      \"column\": \"title_duration\",\n      \"properties\": {\n        \"dtype\": \"category\",\n        \"num_unique_values\": 219,\n        \"samples\": [\n          \"57m\",\n          \"3h 1m\",\n          \"4h\"\n        ],\n        \"semantic_type\": \"\",\n        \"description\": \"\"\n      }\n    },\n    {\n      \"column\": \"imdb_rating\",\n      \"properties\": {\n        \"dtype\": \"number\",\n        \"std\": 0.956386506760446,\n        \"min\": 4.0,\n        \"max\": 9.5,\n        \"num_unique_values\": 56,\n        \"samples\": [\n          8.1,\n          4.4,\n          6.4\n        ],\n        \"semantic_type\": \"\",\n        \"description\": \"\"\n      }\n    },\n    {\n      \"column\": \"vote_count\",\n      \"properties\": {\n        \"dtype\": \"number\",\n        \"std\": 183112,\n        \"min\": 15005,\n        \"max\": 3007882,\n        \"num_unique_values\": 10229,\n        \"samples\": [\n          15430,\n          15621,\n          616118\n        ],\n        \"semantic_type\": \"\",\n        \"description\": \"\"\n      }\n    },\n    {\n      \"column\": \"title_url\",\n      \"properties\": {\n        \"dtype\": \"string\",\n        \"num_unique_values\": 10896,\n        \"samples\": [\n          \"https://www.imdb.com/title/tt1704573/\",\n          \"https://www.imdb.com/title/tt0206634/\",\n          \"https://www.imdb.com/title/tt0038854/\"\n        ],\n        \"semantic_type\": \"\",\n        \"description\": \"\"\n      }\n    },\n    {\n      \"column\": \"title_trailer\",\n      \"properties\": {\n        \"dtype\": \"string\",\n        \"num_unique_values\": 10452,\n        \"samples\": [\n          \"https://www.imdb.com/video/vi1814217497/\",\n          \"https://www.imdb.com/video/vi110543641/\",\n          \"https://www.imdb.com/video/vi2557918745/\"\n        ],\n        \"semantic_type\": \"\",\n        \"description\": \"\"\n      }\n    },\n    {\n      \"column\": \"genres\",\n      \"properties\": {\n        \"dtype\": \"category\",\n        \"num_unique_values\": 1630,\n        \"samples\": [\n          \"Biography, Comedy, Drama\",\n          \"Comedy, Crime, Drama\",\n          \"Animation, Adventure, Comedy, Family, Fantasy, Sport\"\n        ],\n        \"semantic_type\": \"\",\n        \"description\": \"\"\n      }\n    },\n    {\n      \"column\": \"review_count\",\n      \"properties\": {\n        \"dtype\": \"number\",\n        \"std\": 596,\n        \"min\": 1,\n        \"max\": 11627,\n        \"num_unique_values\": 1643,\n        \"samples\": [\n          1667,\n          1132,\n          968\n        ],\n        \"semantic_type\": \"\",\n        \"description\": \"\"\n      }\n    },\n    {\n      \"column\": \"critic_review_count\",\n      \"properties\": {\n        \"dtype\": \"number\",\n        \"std\": 110,\n        \"min\": 0,\n        \"max\": 1026,\n        \"num_unique_values\": 576,\n        \"samples\": [\n          106,\n          149,\n          322\n        ],\n        \"semantic_type\": \"\",\n        \"description\": \"\"\n      }\n    },\n    {\n      \"column\": \"cast\",\n      \"properties\": {\n        \"dtype\": \"string\",\n        \"num_unique_values\": 10889,\n        \"samples\": [\n          \"Peter Fonda, Dennis Hopper, Jack Nicholson, Antonio Mendoza, Phil Spector, Mac Mashourian, Warren Finnerty, Tita Colorado, Luke Askew, Luana Anders, Sabrina Scharf, Sandy Brown Wyeth, Robert Walker Jr., Robert Ball, Carmen Phillips, Ellie Wood Walker, Michael Pataki, George Fowler Jr.\",\n          \"Patrick Swayze, Keanu Reeves, Gary Busey, Lori Petty, John C. McGinley, James Le Gros, John Philbin, Bojesse Christopher, Julian Reyes, Daniel Beer, Chris Pedersen, Vincent Klyn, Anthony Kiedis, Dave Olson, Lee Tergesen, Sydney Walsh, Christopher Pettiet, Dino Andino\",\n          \"Sarah Jones, Jorge Garcia, Jonny Coyne, Parminder Nagra, Sam Neill, Cameron K. Smith, Leon Rippy, Jason Butler Harner, David Hoflin, Jeffrey Pierce, Jeananne Goossen, Joe Egender, Samuel Patrick Chu, Robert Forster, Christopher Logan, Kerry van der Griend, Robbie Amell, Ben Cotton\"\n        ],\n        \"semantic_type\": \"\",\n        \"description\": \"\"\n      }\n    },\n    {\n      \"column\": \"directors_creators\",\n      \"properties\": {\n        \"dtype\": \"category\",\n        \"num_unique_values\": 4922,\n        \"samples\": [\n          \"Justin Baldoni\",\n          \"Yasin Uslu\",\n          \"Steve Rash\"\n        ],\n        \"semantic_type\": \"\",\n        \"description\": \"\"\n      }\n    },\n    {\n      \"column\": \"short_plot\",\n      \"properties\": {\n        \"dtype\": \"string\",\n        \"num_unique_values\": 10894,\n        \"samples\": [\n          \"In small-town Texas, an affable mortician strikes up a friendship with a wealthy widow, though when she starts to become controlling, he goes to great lengths to separate himself from her grasp.\",\n          \"In 2027, in a chaotic world in which women have somehow become infertile, a former activist agrees to help transport a miraculously pregnant woman to a sanctuary at sea.\",\n          \"Kamala, a superhero fan with an imagination--particularly when it comes to Captain Marvel--feels like she doesn't fit in at school and sometimes even at home, that is until she gets superpowers like the heroes she admires.\"\n        ],\n        \"semantic_type\": \"\",\n        \"description\": \"\"\n      }\n    }\n  ]\n}",
       "type": "dataframe",
       "variable_name": "df_main"
      },
      "text/html": [
       "\n",
       "  <div id=\"df-5d237a32-a8ec-4dc5-a931-0c33327e33e9\" class=\"colab-df-container\">\n",
       "    <div>\n",
       "<style scoped>\n",
       "    .dataframe tbody tr th:only-of-type {\n",
       "        vertical-align: middle;\n",
       "    }\n",
       "\n",
       "    .dataframe tbody tr th {\n",
       "        vertical-align: top;\n",
       "    }\n",
       "\n",
       "    .dataframe thead th {\n",
       "        text-align: right;\n",
       "    }\n",
       "</style>\n",
       "<table border=\"1\" class=\"dataframe\">\n",
       "  <thead>\n",
       "    <tr style=\"text-align: right;\">\n",
       "      <th></th>\n",
       "      <th>original_title_name</th>\n",
       "      <th>title_name</th>\n",
       "      <th>poster</th>\n",
       "      <th>rating_view</th>\n",
       "      <th>release_year</th>\n",
       "      <th>country</th>\n",
       "      <th>language</th>\n",
       "      <th>title_duration_second</th>\n",
       "      <th>title_duration</th>\n",
       "      <th>imdb_rating</th>\n",
       "      <th>vote_count</th>\n",
       "      <th>title_url</th>\n",
       "      <th>title_trailer</th>\n",
       "      <th>genres</th>\n",
       "      <th>review_count</th>\n",
       "      <th>critic_review_count</th>\n",
       "      <th>cast</th>\n",
       "      <th>directors_creators</th>\n",
       "      <th>short_plot</th>\n",
       "    </tr>\n",
       "  </thead>\n",
       "  <tbody>\n",
       "    <tr>\n",
       "      <th>0</th>\n",
       "      <td>Zeitgeist: Moving Forward</td>\n",
       "      <td>Zeitgeist: Moving Forward</td>\n",
       "      <td>https://m.media-amazon.com/images/M/MV5BNzc0OD...</td>\n",
       "      <td>Unrated</td>\n",
       "      <td>2011</td>\n",
       "      <td>United States</td>\n",
       "      <td>English</td>\n",
       "      <td>9660.0</td>\n",
       "      <td>2h 41m</td>\n",
       "      <td>8.1</td>\n",
       "      <td>18841</td>\n",
       "      <td>https://www.imdb.com/title/tt1781069/</td>\n",
       "      <td>https://www.imdb.com/video/vi2765593881/</td>\n",
       "      <td>Documentary</td>\n",
       "      <td>67</td>\n",
       "      <td>3</td>\n",
       "      <td>Peter Joseph, Robert Sapolsky, Gabor Maté, Ric...</td>\n",
       "      <td>Peter Joseph</td>\n",
       "      <td>A feature length documentary work which presen...</td>\n",
       "    </tr>\n",
       "    <tr>\n",
       "      <th>1</th>\n",
       "      <td>Life in a Day</td>\n",
       "      <td>Life in a Day</td>\n",
       "      <td>https://m.media-amazon.com/images/M/MV5BMjE4MD...</td>\n",
       "      <td>PG-13</td>\n",
       "      <td>2011</td>\n",
       "      <td>United Kingdom, United States</td>\n",
       "      <td>English, Italian, Japanese, German, Spanish, I...</td>\n",
       "      <td>5700.0</td>\n",
       "      <td>1h 35m</td>\n",
       "      <td>7.6</td>\n",
       "      <td>15664</td>\n",
       "      <td>https://www.imdb.com/title/tt1687247/</td>\n",
       "      <td>https://www.imdb.com/video/vi3867843609/</td>\n",
       "      <td>Documentary, Drama</td>\n",
       "      <td>64</td>\n",
       "      <td>95</td>\n",
       "      <td>Hiroaki Aikawa, Cindy Baer, Teagan Bentley, Es...</td>\n",
       "      <td>Tegan Bukowski, Loressa Clisby, Kevin Macdonald</td>\n",
       "      <td>A documentary shot by film-makers all over the...</td>\n",
       "    </tr>\n",
       "  </tbody>\n",
       "</table>\n",
       "</div>\n",
       "    <div class=\"colab-df-buttons\">\n",
       "\n",
       "  <div class=\"colab-df-container\">\n",
       "    <button class=\"colab-df-convert\" onclick=\"convertToInteractive('df-5d237a32-a8ec-4dc5-a931-0c33327e33e9')\"\n",
       "            title=\"Convert this dataframe to an interactive table.\"\n",
       "            style=\"display:none;\">\n",
       "\n",
       "  <svg xmlns=\"http://www.w3.org/2000/svg\" height=\"24px\" viewBox=\"0 -960 960 960\">\n",
       "    <path d=\"M120-120v-720h720v720H120Zm60-500h600v-160H180v160Zm220 220h160v-160H400v160Zm0 220h160v-160H400v160ZM180-400h160v-160H180v160Zm440 0h160v-160H620v160ZM180-180h160v-160H180v160Zm440 0h160v-160H620v160Z\"/>\n",
       "  </svg>\n",
       "    </button>\n",
       "\n",
       "  <style>\n",
       "    .colab-df-container {\n",
       "      display:flex;\n",
       "      gap: 12px;\n",
       "    }\n",
       "\n",
       "    .colab-df-convert {\n",
       "      background-color: #E8F0FE;\n",
       "      border: none;\n",
       "      border-radius: 50%;\n",
       "      cursor: pointer;\n",
       "      display: none;\n",
       "      fill: #1967D2;\n",
       "      height: 32px;\n",
       "      padding: 0 0 0 0;\n",
       "      width: 32px;\n",
       "    }\n",
       "\n",
       "    .colab-df-convert:hover {\n",
       "      background-color: #E2EBFA;\n",
       "      box-shadow: 0px 1px 2px rgba(60, 64, 67, 0.3), 0px 1px 3px 1px rgba(60, 64, 67, 0.15);\n",
       "      fill: #174EA6;\n",
       "    }\n",
       "\n",
       "    .colab-df-buttons div {\n",
       "      margin-bottom: 4px;\n",
       "    }\n",
       "\n",
       "    [theme=dark] .colab-df-convert {\n",
       "      background-color: #3B4455;\n",
       "      fill: #D2E3FC;\n",
       "    }\n",
       "\n",
       "    [theme=dark] .colab-df-convert:hover {\n",
       "      background-color: #434B5C;\n",
       "      box-shadow: 0px 1px 3px 1px rgba(0, 0, 0, 0.15);\n",
       "      filter: drop-shadow(0px 1px 2px rgba(0, 0, 0, 0.3));\n",
       "      fill: #FFFFFF;\n",
       "    }\n",
       "  </style>\n",
       "\n",
       "    <script>\n",
       "      const buttonEl =\n",
       "        document.querySelector('#df-5d237a32-a8ec-4dc5-a931-0c33327e33e9 button.colab-df-convert');\n",
       "      buttonEl.style.display =\n",
       "        google.colab.kernel.accessAllowed ? 'block' : 'none';\n",
       "\n",
       "      async function convertToInteractive(key) {\n",
       "        const element = document.querySelector('#df-5d237a32-a8ec-4dc5-a931-0c33327e33e9');\n",
       "        const dataTable =\n",
       "          await google.colab.kernel.invokeFunction('convertToInteractive',\n",
       "                                                    [key], {});\n",
       "        if (!dataTable) return;\n",
       "\n",
       "        const docLinkHtml = 'Like what you see? Visit the ' +\n",
       "          '<a target=\"_blank\" href=https://colab.research.google.com/notebooks/data_table.ipynb>data table notebook</a>'\n",
       "          + ' to learn more about interactive tables.';\n",
       "        element.innerHTML = '';\n",
       "        dataTable['output_type'] = 'display_data';\n",
       "        await google.colab.output.renderOutput(dataTable, element);\n",
       "        const docLink = document.createElement('div');\n",
       "        docLink.innerHTML = docLinkHtml;\n",
       "        element.appendChild(docLink);\n",
       "      }\n",
       "    </script>\n",
       "  </div>\n",
       "\n",
       "\n",
       "<div id=\"df-8a8028d8-2549-47a4-941d-c05a74d81205\">\n",
       "  <button class=\"colab-df-quickchart\" onclick=\"quickchart('df-8a8028d8-2549-47a4-941d-c05a74d81205')\"\n",
       "            title=\"Suggest charts\"\n",
       "            style=\"display:none;\">\n",
       "\n",
       "<svg xmlns=\"http://www.w3.org/2000/svg\" height=\"24px\"viewBox=\"0 0 24 24\"\n",
       "     width=\"24px\">\n",
       "    <g>\n",
       "        <path d=\"M19 3H5c-1.1 0-2 .9-2 2v14c0 1.1.9 2 2 2h14c1.1 0 2-.9 2-2V5c0-1.1-.9-2-2-2zM9 17H7v-7h2v7zm4 0h-2V7h2v10zm4 0h-2v-4h2v4z\"/>\n",
       "    </g>\n",
       "</svg>\n",
       "  </button>\n",
       "\n",
       "<style>\n",
       "  .colab-df-quickchart {\n",
       "      --bg-color: #E8F0FE;\n",
       "      --fill-color: #1967D2;\n",
       "      --hover-bg-color: #E2EBFA;\n",
       "      --hover-fill-color: #174EA6;\n",
       "      --disabled-fill-color: #AAA;\n",
       "      --disabled-bg-color: #DDD;\n",
       "  }\n",
       "\n",
       "  [theme=dark] .colab-df-quickchart {\n",
       "      --bg-color: #3B4455;\n",
       "      --fill-color: #D2E3FC;\n",
       "      --hover-bg-color: #434B5C;\n",
       "      --hover-fill-color: #FFFFFF;\n",
       "      --disabled-bg-color: #3B4455;\n",
       "      --disabled-fill-color: #666;\n",
       "  }\n",
       "\n",
       "  .colab-df-quickchart {\n",
       "    background-color: var(--bg-color);\n",
       "    border: none;\n",
       "    border-radius: 50%;\n",
       "    cursor: pointer;\n",
       "    display: none;\n",
       "    fill: var(--fill-color);\n",
       "    height: 32px;\n",
       "    padding: 0;\n",
       "    width: 32px;\n",
       "  }\n",
       "\n",
       "  .colab-df-quickchart:hover {\n",
       "    background-color: var(--hover-bg-color);\n",
       "    box-shadow: 0 1px 2px rgba(60, 64, 67, 0.3), 0 1px 3px 1px rgba(60, 64, 67, 0.15);\n",
       "    fill: var(--button-hover-fill-color);\n",
       "  }\n",
       "\n",
       "  .colab-df-quickchart-complete:disabled,\n",
       "  .colab-df-quickchart-complete:disabled:hover {\n",
       "    background-color: var(--disabled-bg-color);\n",
       "    fill: var(--disabled-fill-color);\n",
       "    box-shadow: none;\n",
       "  }\n",
       "\n",
       "  .colab-df-spinner {\n",
       "    border: 2px solid var(--fill-color);\n",
       "    border-color: transparent;\n",
       "    border-bottom-color: var(--fill-color);\n",
       "    animation:\n",
       "      spin 1s steps(1) infinite;\n",
       "  }\n",
       "\n",
       "  @keyframes spin {\n",
       "    0% {\n",
       "      border-color: transparent;\n",
       "      border-bottom-color: var(--fill-color);\n",
       "      border-left-color: var(--fill-color);\n",
       "    }\n",
       "    20% {\n",
       "      border-color: transparent;\n",
       "      border-left-color: var(--fill-color);\n",
       "      border-top-color: var(--fill-color);\n",
       "    }\n",
       "    30% {\n",
       "      border-color: transparent;\n",
       "      border-left-color: var(--fill-color);\n",
       "      border-top-color: var(--fill-color);\n",
       "      border-right-color: var(--fill-color);\n",
       "    }\n",
       "    40% {\n",
       "      border-color: transparent;\n",
       "      border-right-color: var(--fill-color);\n",
       "      border-top-color: var(--fill-color);\n",
       "    }\n",
       "    60% {\n",
       "      border-color: transparent;\n",
       "      border-right-color: var(--fill-color);\n",
       "    }\n",
       "    80% {\n",
       "      border-color: transparent;\n",
       "      border-right-color: var(--fill-color);\n",
       "      border-bottom-color: var(--fill-color);\n",
       "    }\n",
       "    90% {\n",
       "      border-color: transparent;\n",
       "      border-bottom-color: var(--fill-color);\n",
       "    }\n",
       "  }\n",
       "</style>\n",
       "\n",
       "  <script>\n",
       "    async function quickchart(key) {\n",
       "      const quickchartButtonEl =\n",
       "        document.querySelector('#' + key + ' button');\n",
       "      quickchartButtonEl.disabled = true;  // To prevent multiple clicks.\n",
       "      quickchartButtonEl.classList.add('colab-df-spinner');\n",
       "      try {\n",
       "        const charts = await google.colab.kernel.invokeFunction(\n",
       "            'suggestCharts', [key], {});\n",
       "      } catch (error) {\n",
       "        console.error('Error during call to suggestCharts:', error);\n",
       "      }\n",
       "      quickchartButtonEl.classList.remove('colab-df-spinner');\n",
       "      quickchartButtonEl.classList.add('colab-df-quickchart-complete');\n",
       "    }\n",
       "    (() => {\n",
       "      let quickchartButtonEl =\n",
       "        document.querySelector('#df-8a8028d8-2549-47a4-941d-c05a74d81205 button');\n",
       "      quickchartButtonEl.style.display =\n",
       "        google.colab.kernel.accessAllowed ? 'block' : 'none';\n",
       "    })();\n",
       "  </script>\n",
       "</div>\n",
       "    </div>\n",
       "  </div>\n"
      ],
      "text/plain": [
       "         original_title_name                 title_name  \\\n",
       "0  Zeitgeist: Moving Forward  Zeitgeist: Moving Forward   \n",
       "1              Life in a Day              Life in a Day   \n",
       "\n",
       "                                              poster rating_view  \\\n",
       "0  https://m.media-amazon.com/images/M/MV5BNzc0OD...     Unrated   \n",
       "1  https://m.media-amazon.com/images/M/MV5BMjE4MD...       PG-13   \n",
       "\n",
       "   release_year                        country  \\\n",
       "0          2011                  United States   \n",
       "1          2011  United Kingdom, United States   \n",
       "\n",
       "                                            language  title_duration_second  \\\n",
       "0                                            English                 9660.0   \n",
       "1  English, Italian, Japanese, German, Spanish, I...                 5700.0   \n",
       "\n",
       "  title_duration  imdb_rating  vote_count  \\\n",
       "0         2h 41m          8.1       18841   \n",
       "1         1h 35m          7.6       15664   \n",
       "\n",
       "                               title_url  \\\n",
       "0  https://www.imdb.com/title/tt1781069/   \n",
       "1  https://www.imdb.com/title/tt1687247/   \n",
       "\n",
       "                              title_trailer              genres  review_count  \\\n",
       "0  https://www.imdb.com/video/vi2765593881/         Documentary            67   \n",
       "1  https://www.imdb.com/video/vi3867843609/  Documentary, Drama            64   \n",
       "\n",
       "   critic_review_count                                               cast  \\\n",
       "0                    3  Peter Joseph, Robert Sapolsky, Gabor Maté, Ric...   \n",
       "1                   95  Hiroaki Aikawa, Cindy Baer, Teagan Bentley, Es...   \n",
       "\n",
       "                                directors_creators  \\\n",
       "0                                     Peter Joseph   \n",
       "1  Tegan Bukowski, Loressa Clisby, Kevin Macdonald   \n",
       "\n",
       "                                          short_plot  \n",
       "0  A feature length documentary work which presen...  \n",
       "1  A documentary shot by film-makers all over the...  "
      ]
     },
     "execution_count": 121,
     "metadata": {},
     "output_type": "execute_result"
    }
   ],
   "source": [
    "df_main.head(2)"
   ]
  },
  {
   "cell_type": "code",
   "execution_count": null,
   "metadata": {
    "colab": {
     "base_uri": "https://localhost:8080/",
     "height": 206
    },
    "id": "z5LbLWMUCm1H",
    "outputId": "4c57fae4-a25f-4f60-8a7e-433e7e15f2f4"
   },
   "outputs": [
    {
     "data": {
      "application/vnd.google.colaboratory.intrinsic+json": {
       "summary": "{\n  \"name\": \"df_summary\",\n  \"rows\": 10896,\n  \"fields\": [\n    {\n      \"column\": \"title_url\",\n      \"properties\": {\n        \"dtype\": \"string\",\n        \"num_unique_values\": 10896,\n        \"samples\": [\n          \"https://www.imdb.com/title/tt0245674\",\n          \"https://www.imdb.com/title/tt0397313\",\n          \"https://www.imdb.com/title/tt1859650\"\n        ],\n        \"semantic_type\": \"\",\n        \"description\": \"\"\n      }\n    },\n    {\n      \"column\": \"title_summary\",\n      \"properties\": {\n        \"dtype\": \"string\",\n        \"num_unique_values\": 10896,\n        \"samples\": [\n          \"When Cyrus Kriticos, a very rich collector of unique things, dies, he leaves his house, fortune, and his prized collection of ghosts./Arthur and his two children, Kathy and Bobby, inherit his Uncle Cyrus's estate: a glass house that serves as a prison to 12 ghosts. When the family, accompanied by Bobby's Nanny and an attorney, enter the house they find themselves trapped inside an evil machine \\\"designed by the devil and powered by the dead\\\" to open the Eye of Hell. Aided by Dennis, a ghost hunter, and his rival Kalina, a ghost rights activist out to set the ghosts free, the group must do what they can to get out of the house alive.\",\n          \"Brutal cold forces two Antarctic explorers to leave their team of sled dogs behind as they fend for their survival./In the Antarctic, after an expedition with Dr. Davis McClaren, the sled dog trainer Jerry Shepherd has to leave the polar base with his colleagues due to the proximity of a heavy snow storm. He ties his dogs to be rescued after, but the mission is called-off and the dogs are left alone at their own fortune. For six months, Jerry tries to find a sponsor for a rescue mission while his dogs fight for survival.\",\n          \"The lives of some visitors and residents of Rome and the romances, adventures and predicaments they get into./In Rome, the America tourist Hayley meets the local lawyer Michelangelo on the street and soon they fall in love with each other. Hayley's parents, the psychiatrist Phyllis and the retired music producer Jerry, travel to Rome to meet Michelangelo and his parents. When Jerry listens to Michelangelo's father Giancarlo singing opera in the shower, he is convinced that he is a talented opera singer. But there is a problem: Giancarlo can only sing in the shower. The couple Antonio and Milly travel to Rome to meet Antonio's relatives that belong to the high society. Milly goes to the hairdresser while Antonio waits for her in the room. Milly gets lost in Rome and the prostitute Anna mistakenly goes to Antonio's room. Out of the blue, his relatives arrive in the room and they believe Anna is Antonio's wife. Meanwhile the shy Milly meets her favorite actor Luca Salta (Antonio Albanese) and goes to his hotel room \\\"to discuss about movies\\\". One day, the middle-class clerk Leopoldo becomes a celebrity and is hunted by the paparazzo. A couple of days later, he is forgotten by the media. The American architect John travels to Rome with his wife and feels nostalgic since he lived in the city thirty years ago when he was a student. He meets the student of architecture Jack, who lives on the same street that John had lived, and he invited to drink a coffee at his house. Jack lives with his girlfriend Sally (Greta Gerwig) that invites her best friend Monica to stay with them in their house. But soon Jack has a crush on Monica./Four unrelated but intercut stories are presented, each incorporating the mysticism of the Eternal City. In story 1, Hayley, a New Yorker, is vacationing in Rome for the summer. She meets native Roman, Michelangelo, a leftist lawyer, the two who fall in love and plan to get married at the end of the summer. Her parents, Jerry and Phyllis, a retired avant garde opera director and a therapist respectively, fly into Rome to meet Michelangelo and his family. Jerry hates the thought of Michelangelo's leftist ideals and goes into meeting him and his family with some disdain. However, Jerry, who equates retirement with death (according to therapist Phyllis), sees his new in-laws differently not so much when he meets Michelangelo's undertaker father, Giancarlo, but hears Giancarlo sing, he a great operatic tenor according to Jerry. However, Giancarlo, who has always quietly dreamed of singing professionally, has a singing crutch which Jerry will have to incorporate in any professional opportunity he provides for Giancarlo. In story 2, Antonio and Milly, innocent newlyweds from the provinces, have just arrived in the city for the first time to meet Antonio's influential relatives who have offered him a job. Out of circumstance, Milly gets lost in Rome on her own - she eventually stumbling onto a movie set where she meets her idol Luca Salta - leading to her missing the important lunch meeting with Antonio's relatives. So Antonio ends up enlisting the aid of Anna, a seductive prostitute, to pose as Milly in front of his relatives. Antonio and Milly's respective doings that day affect the marriage and their future. In story 3, John Foy, an American architect now most famous for designing shopping centers, is visiting Rome for the first time in thirty years, the city where he lived as a student. As he leaves his wife Carol and their friends to act the tourists, John decides to visit his old haunts, where he meets Jack, literally him thirty years ago: a young American architecture student who lives in John's old apartment building. Jack and his girlfriend Sally, also a student, are at the last minute expecting a visit from Sally's best friend, Monica, an actress who needs time to commiserate over a recent break-up. As the sexual tension builds between Jack and Monica, John acts as their spirit guide, he who not only predicted issues because of Monica's visit, but whose objective advice is more often than not ignored by all the parties involved. And in story 4, Leopoldo leads an undistinguished life as husband and father, with the highlight of his and his male coworkers' day being to watch their boss' seductive secretary Serafina parade around the office. Without explanation, Leopoldo's life is turned upside down as he is thrust into fame and celebrity, where he is constantly followed by paparazzo and reporters, who want to document his every move. Despite some perks, he largely sees this celebrity as an imposition on what was his quiet life. He may view it differently if it all goes away./In Woody Allen's ensemble comedy To Rome With Love, various lives intersect in the Italian city. The characters include architect John (Alec Baldwin), a young man (Jesse Eisenberg) in love with his girlfriend's best friend, an opera director (Woody Allen) who finds an undiscovered talent in an unexpected place, and Leopoldo (Roberto Benigni), who inadvertently becomes one of the most famous people in Rome./Set in the romantic city of Rome. The intertwining stories of a worker who wakes up to find himself a celebrity, an architect who takes a trip back to the street he lived on as a student, a young couple on their honeymoon, and a frustrated opera director who has a talent for discovering talented singers.\"\n        ],\n        \"semantic_type\": \"\",\n        \"description\": \"\"\n      }\n    }\n  ]\n}",
       "type": "dataframe",
       "variable_name": "df_summary"
      },
      "text/html": [
       "\n",
       "  <div id=\"df-ed095e8e-35fa-4ade-8a4d-e03d7013bc5d\" class=\"colab-df-container\">\n",
       "    <div>\n",
       "<style scoped>\n",
       "    .dataframe tbody tr th:only-of-type {\n",
       "        vertical-align: middle;\n",
       "    }\n",
       "\n",
       "    .dataframe tbody tr th {\n",
       "        vertical-align: top;\n",
       "    }\n",
       "\n",
       "    .dataframe thead th {\n",
       "        text-align: right;\n",
       "    }\n",
       "</style>\n",
       "<table border=\"1\" class=\"dataframe\">\n",
       "  <thead>\n",
       "    <tr style=\"text-align: right;\">\n",
       "      <th></th>\n",
       "      <th>title_url</th>\n",
       "      <th>title_summary</th>\n",
       "    </tr>\n",
       "  </thead>\n",
       "  <tbody>\n",
       "    <tr>\n",
       "      <th>0</th>\n",
       "      <td>https://www.imdb.com/title/tt0971209</td>\n",
       "      <td>Two pairs of lovers on a Hawaiian vacation dis...</td>\n",
       "    </tr>\n",
       "    <tr>\n",
       "      <th>1</th>\n",
       "      <td>https://www.imdb.com/title/tt12731980</td>\n",
       "      <td>A farmer takes in an injured man with a satche...</td>\n",
       "    </tr>\n",
       "    <tr>\n",
       "      <th>2</th>\n",
       "      <td>https://www.imdb.com/title/tt0112722</td>\n",
       "      <td>A criminal psychologist who turned agoraphobic...</td>\n",
       "    </tr>\n",
       "    <tr>\n",
       "      <th>3</th>\n",
       "      <td>https://www.imdb.com/title/tt0032976</td>\n",
       "      <td>A self-conscious woman juggles adjusting to he...</td>\n",
       "    </tr>\n",
       "    <tr>\n",
       "      <th>4</th>\n",
       "      <td>https://www.imdb.com/title/tt4374208</td>\n",
       "      <td>American man Rob gets Irish woman Sharon pregn...</td>\n",
       "    </tr>\n",
       "  </tbody>\n",
       "</table>\n",
       "</div>\n",
       "    <div class=\"colab-df-buttons\">\n",
       "\n",
       "  <div class=\"colab-df-container\">\n",
       "    <button class=\"colab-df-convert\" onclick=\"convertToInteractive('df-ed095e8e-35fa-4ade-8a4d-e03d7013bc5d')\"\n",
       "            title=\"Convert this dataframe to an interactive table.\"\n",
       "            style=\"display:none;\">\n",
       "\n",
       "  <svg xmlns=\"http://www.w3.org/2000/svg\" height=\"24px\" viewBox=\"0 -960 960 960\">\n",
       "    <path d=\"M120-120v-720h720v720H120Zm60-500h600v-160H180v160Zm220 220h160v-160H400v160Zm0 220h160v-160H400v160ZM180-400h160v-160H180v160Zm440 0h160v-160H620v160ZM180-180h160v-160H180v160Zm440 0h160v-160H620v160Z\"/>\n",
       "  </svg>\n",
       "    </button>\n",
       "\n",
       "  <style>\n",
       "    .colab-df-container {\n",
       "      display:flex;\n",
       "      gap: 12px;\n",
       "    }\n",
       "\n",
       "    .colab-df-convert {\n",
       "      background-color: #E8F0FE;\n",
       "      border: none;\n",
       "      border-radius: 50%;\n",
       "      cursor: pointer;\n",
       "      display: none;\n",
       "      fill: #1967D2;\n",
       "      height: 32px;\n",
       "      padding: 0 0 0 0;\n",
       "      width: 32px;\n",
       "    }\n",
       "\n",
       "    .colab-df-convert:hover {\n",
       "      background-color: #E2EBFA;\n",
       "      box-shadow: 0px 1px 2px rgba(60, 64, 67, 0.3), 0px 1px 3px 1px rgba(60, 64, 67, 0.15);\n",
       "      fill: #174EA6;\n",
       "    }\n",
       "\n",
       "    .colab-df-buttons div {\n",
       "      margin-bottom: 4px;\n",
       "    }\n",
       "\n",
       "    [theme=dark] .colab-df-convert {\n",
       "      background-color: #3B4455;\n",
       "      fill: #D2E3FC;\n",
       "    }\n",
       "\n",
       "    [theme=dark] .colab-df-convert:hover {\n",
       "      background-color: #434B5C;\n",
       "      box-shadow: 0px 1px 3px 1px rgba(0, 0, 0, 0.15);\n",
       "      filter: drop-shadow(0px 1px 2px rgba(0, 0, 0, 0.3));\n",
       "      fill: #FFFFFF;\n",
       "    }\n",
       "  </style>\n",
       "\n",
       "    <script>\n",
       "      const buttonEl =\n",
       "        document.querySelector('#df-ed095e8e-35fa-4ade-8a4d-e03d7013bc5d button.colab-df-convert');\n",
       "      buttonEl.style.display =\n",
       "        google.colab.kernel.accessAllowed ? 'block' : 'none';\n",
       "\n",
       "      async function convertToInteractive(key) {\n",
       "        const element = document.querySelector('#df-ed095e8e-35fa-4ade-8a4d-e03d7013bc5d');\n",
       "        const dataTable =\n",
       "          await google.colab.kernel.invokeFunction('convertToInteractive',\n",
       "                                                    [key], {});\n",
       "        if (!dataTable) return;\n",
       "\n",
       "        const docLinkHtml = 'Like what you see? Visit the ' +\n",
       "          '<a target=\"_blank\" href=https://colab.research.google.com/notebooks/data_table.ipynb>data table notebook</a>'\n",
       "          + ' to learn more about interactive tables.';\n",
       "        element.innerHTML = '';\n",
       "        dataTable['output_type'] = 'display_data';\n",
       "        await google.colab.output.renderOutput(dataTable, element);\n",
       "        const docLink = document.createElement('div');\n",
       "        docLink.innerHTML = docLinkHtml;\n",
       "        element.appendChild(docLink);\n",
       "      }\n",
       "    </script>\n",
       "  </div>\n",
       "\n",
       "\n",
       "<div id=\"df-f365a392-f078-4a6f-a154-51621065b308\">\n",
       "  <button class=\"colab-df-quickchart\" onclick=\"quickchart('df-f365a392-f078-4a6f-a154-51621065b308')\"\n",
       "            title=\"Suggest charts\"\n",
       "            style=\"display:none;\">\n",
       "\n",
       "<svg xmlns=\"http://www.w3.org/2000/svg\" height=\"24px\"viewBox=\"0 0 24 24\"\n",
       "     width=\"24px\">\n",
       "    <g>\n",
       "        <path d=\"M19 3H5c-1.1 0-2 .9-2 2v14c0 1.1.9 2 2 2h14c1.1 0 2-.9 2-2V5c0-1.1-.9-2-2-2zM9 17H7v-7h2v7zm4 0h-2V7h2v10zm4 0h-2v-4h2v4z\"/>\n",
       "    </g>\n",
       "</svg>\n",
       "  </button>\n",
       "\n",
       "<style>\n",
       "  .colab-df-quickchart {\n",
       "      --bg-color: #E8F0FE;\n",
       "      --fill-color: #1967D2;\n",
       "      --hover-bg-color: #E2EBFA;\n",
       "      --hover-fill-color: #174EA6;\n",
       "      --disabled-fill-color: #AAA;\n",
       "      --disabled-bg-color: #DDD;\n",
       "  }\n",
       "\n",
       "  [theme=dark] .colab-df-quickchart {\n",
       "      --bg-color: #3B4455;\n",
       "      --fill-color: #D2E3FC;\n",
       "      --hover-bg-color: #434B5C;\n",
       "      --hover-fill-color: #FFFFFF;\n",
       "      --disabled-bg-color: #3B4455;\n",
       "      --disabled-fill-color: #666;\n",
       "  }\n",
       "\n",
       "  .colab-df-quickchart {\n",
       "    background-color: var(--bg-color);\n",
       "    border: none;\n",
       "    border-radius: 50%;\n",
       "    cursor: pointer;\n",
       "    display: none;\n",
       "    fill: var(--fill-color);\n",
       "    height: 32px;\n",
       "    padding: 0;\n",
       "    width: 32px;\n",
       "  }\n",
       "\n",
       "  .colab-df-quickchart:hover {\n",
       "    background-color: var(--hover-bg-color);\n",
       "    box-shadow: 0 1px 2px rgba(60, 64, 67, 0.3), 0 1px 3px 1px rgba(60, 64, 67, 0.15);\n",
       "    fill: var(--button-hover-fill-color);\n",
       "  }\n",
       "\n",
       "  .colab-df-quickchart-complete:disabled,\n",
       "  .colab-df-quickchart-complete:disabled:hover {\n",
       "    background-color: var(--disabled-bg-color);\n",
       "    fill: var(--disabled-fill-color);\n",
       "    box-shadow: none;\n",
       "  }\n",
       "\n",
       "  .colab-df-spinner {\n",
       "    border: 2px solid var(--fill-color);\n",
       "    border-color: transparent;\n",
       "    border-bottom-color: var(--fill-color);\n",
       "    animation:\n",
       "      spin 1s steps(1) infinite;\n",
       "  }\n",
       "\n",
       "  @keyframes spin {\n",
       "    0% {\n",
       "      border-color: transparent;\n",
       "      border-bottom-color: var(--fill-color);\n",
       "      border-left-color: var(--fill-color);\n",
       "    }\n",
       "    20% {\n",
       "      border-color: transparent;\n",
       "      border-left-color: var(--fill-color);\n",
       "      border-top-color: var(--fill-color);\n",
       "    }\n",
       "    30% {\n",
       "      border-color: transparent;\n",
       "      border-left-color: var(--fill-color);\n",
       "      border-top-color: var(--fill-color);\n",
       "      border-right-color: var(--fill-color);\n",
       "    }\n",
       "    40% {\n",
       "      border-color: transparent;\n",
       "      border-right-color: var(--fill-color);\n",
       "      border-top-color: var(--fill-color);\n",
       "    }\n",
       "    60% {\n",
       "      border-color: transparent;\n",
       "      border-right-color: var(--fill-color);\n",
       "    }\n",
       "    80% {\n",
       "      border-color: transparent;\n",
       "      border-right-color: var(--fill-color);\n",
       "      border-bottom-color: var(--fill-color);\n",
       "    }\n",
       "    90% {\n",
       "      border-color: transparent;\n",
       "      border-bottom-color: var(--fill-color);\n",
       "    }\n",
       "  }\n",
       "</style>\n",
       "\n",
       "  <script>\n",
       "    async function quickchart(key) {\n",
       "      const quickchartButtonEl =\n",
       "        document.querySelector('#' + key + ' button');\n",
       "      quickchartButtonEl.disabled = true;  // To prevent multiple clicks.\n",
       "      quickchartButtonEl.classList.add('colab-df-spinner');\n",
       "      try {\n",
       "        const charts = await google.colab.kernel.invokeFunction(\n",
       "            'suggestCharts', [key], {});\n",
       "      } catch (error) {\n",
       "        console.error('Error during call to suggestCharts:', error);\n",
       "      }\n",
       "      quickchartButtonEl.classList.remove('colab-df-spinner');\n",
       "      quickchartButtonEl.classList.add('colab-df-quickchart-complete');\n",
       "    }\n",
       "    (() => {\n",
       "      let quickchartButtonEl =\n",
       "        document.querySelector('#df-f365a392-f078-4a6f-a154-51621065b308 button');\n",
       "      quickchartButtonEl.style.display =\n",
       "        google.colab.kernel.accessAllowed ? 'block' : 'none';\n",
       "    })();\n",
       "  </script>\n",
       "</div>\n",
       "    </div>\n",
       "  </div>\n"
      ],
      "text/plain": [
       "                               title_url  \\\n",
       "0   https://www.imdb.com/title/tt0971209   \n",
       "1  https://www.imdb.com/title/tt12731980   \n",
       "2   https://www.imdb.com/title/tt0112722   \n",
       "3   https://www.imdb.com/title/tt0032976   \n",
       "4   https://www.imdb.com/title/tt4374208   \n",
       "\n",
       "                                       title_summary  \n",
       "0  Two pairs of lovers on a Hawaiian vacation dis...  \n",
       "1  A farmer takes in an injured man with a satche...  \n",
       "2  A criminal psychologist who turned agoraphobic...  \n",
       "3  A self-conscious woman juggles adjusting to he...  \n",
       "4  American man Rob gets Irish woman Sharon pregn...  "
      ]
     },
     "execution_count": 79,
     "metadata": {},
     "output_type": "execute_result"
    }
   ],
   "source": [
    "df_summary.head()"
   ]
  },
  {
   "cell_type": "markdown",
   "metadata": {
    "id": "60zGtlSGemxw"
   },
   "source": [
    "# Making simple text preprocessing for building future recommendation system"
   ]
  },
  {
   "cell_type": "code",
   "execution_count": null,
   "metadata": {
    "id": "Ij7FShcBC7uS"
   },
   "outputs": [],
   "source": [
    "# but first of all we find out the largest title summary text and then\n",
    "# combine with necessary columns from main dataframe\n",
    "\n",
    "def find_the_biggest_piece_of_text(text):\n",
    "  text_and_length = {}\n",
    "  pieces_of_text = text.split('/')\n",
    "  max_length = 0\n",
    "  for item in pieces_of_text:\n",
    "    text_length = len(item)\n",
    "    text_and_length.update({text_length: item})\n",
    "    if text_length > max_length:\n",
    "      max_length = text_length\n",
    "\n",
    "\n",
    "  return text_and_length[max_length]\n",
    "\n",
    "\n",
    "df_summary['biggest_title_summary'] = df_summary['title_summary'].apply(lambda text: find_the_biggest_piece_of_text(text))\n",
    "df_summary['title_url'] = df_summary['title_url'].apply(lambda url: url+'/')\n",
    "df = df_summary.merge(df_main[['original_title_name', 'title_url', 'genres', 'cast', 'directors_creators']], how='inner', left_on='title_url', right_on='title_url')\n",
    "df = df[['original_title_name', 'title_url', 'genres', 'cast', 'directors_creators', 'title_summary', 'biggest_title_summary']]"
   ]
  },
  {
   "cell_type": "code",
   "execution_count": null,
   "metadata": {
    "colab": {
     "base_uri": "https://localhost:8080/",
     "height": 293
    },
    "id": "7RtsU6gxM6rB",
    "outputId": "f7cee55d-aba4-4d3d-bc53-fdb2be1aa296"
   },
   "outputs": [
    {
     "data": {
      "application/vnd.google.colaboratory.intrinsic+json": {
       "summary": "{\n  \"name\": \"df\",\n  \"rows\": 10896,\n  \"fields\": [\n    {\n      \"column\": \"original_title_name\",\n      \"properties\": {\n        \"dtype\": \"string\",\n        \"num_unique_values\": 10458,\n        \"samples\": [\n          \"Shrek 2\",\n          \"Rosetta\",\n          \"The Seventh Sign\"\n        ],\n        \"semantic_type\": \"\",\n        \"description\": \"\"\n      }\n    },\n    {\n      \"column\": \"title_url\",\n      \"properties\": {\n        \"dtype\": \"string\",\n        \"num_unique_values\": 10896,\n        \"samples\": [\n          \"https://www.imdb.com/title/tt0245674/\",\n          \"https://www.imdb.com/title/tt0397313/\",\n          \"https://www.imdb.com/title/tt1859650/\"\n        ],\n        \"semantic_type\": \"\",\n        \"description\": \"\"\n      }\n    },\n    {\n      \"column\": \"genres\",\n      \"properties\": {\n        \"dtype\": \"category\",\n        \"num_unique_values\": 1630,\n        \"samples\": [\n          \"Action, Adventure, Family, Sci-Fi\",\n          \"Action, Comedy, Crime\",\n          \"Animation, Adventure, Comedy, Family, Fantasy, Sport\"\n        ],\n        \"semantic_type\": \"\",\n        \"description\": \"\"\n      }\n    },\n    {\n      \"column\": \"cast\",\n      \"properties\": {\n        \"dtype\": \"string\",\n        \"num_unique_values\": 10889,\n        \"samples\": [\n          \"Elizabeth Taylor, Richard Burton, Rex Harrison, Pamela Brown, George Cole, Hume Cronyn, Cesare Danova, Kenneth Haigh, Andrew Keir, Martin Landau, Roddy McDowall, Robert Stephens, Francesca Annis, Gr\\u00e9goire Aslan, Martin Benson, Herbert Berghof, John Cairney, Jacqueline Chan\",\n          \"Paul Walker, Jason Biggs, Bruce Greenwood, Moon Bloodgood, Wendy Crewson, Gerard Plunkett, August Schellenberg, D.J., Timba, Koda, Jasmin, Apache, Buck, Noble, Troika, Flapjack, Dino, Sitka\",\n          \"Natalie Portman, Jennifer Jason Leigh, Tessa Thompson, Benedict Wong, Sonoya Mizuno, David Gyasi, Oscar Isaac, John Schwab, Gina Rodriguez, Tuva Novotny, Sammy Hayman, Josh Danford, Kristen McGarrity, Kola Bokinni, Annarie Boor, Kirk Bowett, Kirk Bowett, Luis Cherubini\"\n        ],\n        \"semantic_type\": \"\",\n        \"description\": \"\"\n      }\n    },\n    {\n      \"column\": \"directors_creators\",\n      \"properties\": {\n        \"dtype\": \"category\",\n        \"num_unique_values\": 4922,\n        \"samples\": [\n          \"Don Coscarelli\",\n          \"Girish Malik\",\n          \"James Duff\"\n        ],\n        \"semantic_type\": \"\",\n        \"description\": \"\"\n      }\n    },\n    {\n      \"column\": \"title_summary\",\n      \"properties\": {\n        \"dtype\": \"string\",\n        \"num_unique_values\": 10896,\n        \"samples\": [\n          \"When Cyrus Kriticos, a very rich collector of unique things, dies, he leaves his house, fortune, and his prized collection of ghosts./Arthur and his two children, Kathy and Bobby, inherit his Uncle Cyrus's estate: a glass house that serves as a prison to 12 ghosts. When the family, accompanied by Bobby's Nanny and an attorney, enter the house they find themselves trapped inside an evil machine \\\"designed by the devil and powered by the dead\\\" to open the Eye of Hell. Aided by Dennis, a ghost hunter, and his rival Kalina, a ghost rights activist out to set the ghosts free, the group must do what they can to get out of the house alive.\",\n          \"Brutal cold forces two Antarctic explorers to leave their team of sled dogs behind as they fend for their survival./In the Antarctic, after an expedition with Dr. Davis McClaren, the sled dog trainer Jerry Shepherd has to leave the polar base with his colleagues due to the proximity of a heavy snow storm. He ties his dogs to be rescued after, but the mission is called-off and the dogs are left alone at their own fortune. For six months, Jerry tries to find a sponsor for a rescue mission while his dogs fight for survival.\",\n          \"The lives of some visitors and residents of Rome and the romances, adventures and predicaments they get into./In Rome, the America tourist Hayley meets the local lawyer Michelangelo on the street and soon they fall in love with each other. Hayley's parents, the psychiatrist Phyllis and the retired music producer Jerry, travel to Rome to meet Michelangelo and his parents. When Jerry listens to Michelangelo's father Giancarlo singing opera in the shower, he is convinced that he is a talented opera singer. But there is a problem: Giancarlo can only sing in the shower. The couple Antonio and Milly travel to Rome to meet Antonio's relatives that belong to the high society. Milly goes to the hairdresser while Antonio waits for her in the room. Milly gets lost in Rome and the prostitute Anna mistakenly goes to Antonio's room. Out of the blue, his relatives arrive in the room and they believe Anna is Antonio's wife. Meanwhile the shy Milly meets her favorite actor Luca Salta (Antonio Albanese) and goes to his hotel room \\\"to discuss about movies\\\". One day, the middle-class clerk Leopoldo becomes a celebrity and is hunted by the paparazzo. A couple of days later, he is forgotten by the media. The American architect John travels to Rome with his wife and feels nostalgic since he lived in the city thirty years ago when he was a student. He meets the student of architecture Jack, who lives on the same street that John had lived, and he invited to drink a coffee at his house. Jack lives with his girlfriend Sally (Greta Gerwig) that invites her best friend Monica to stay with them in their house. But soon Jack has a crush on Monica./Four unrelated but intercut stories are presented, each incorporating the mysticism of the Eternal City. In story 1, Hayley, a New Yorker, is vacationing in Rome for the summer. She meets native Roman, Michelangelo, a leftist lawyer, the two who fall in love and plan to get married at the end of the summer. Her parents, Jerry and Phyllis, a retired avant garde opera director and a therapist respectively, fly into Rome to meet Michelangelo and his family. Jerry hates the thought of Michelangelo's leftist ideals and goes into meeting him and his family with some disdain. However, Jerry, who equates retirement with death (according to therapist Phyllis), sees his new in-laws differently not so much when he meets Michelangelo's undertaker father, Giancarlo, but hears Giancarlo sing, he a great operatic tenor according to Jerry. However, Giancarlo, who has always quietly dreamed of singing professionally, has a singing crutch which Jerry will have to incorporate in any professional opportunity he provides for Giancarlo. In story 2, Antonio and Milly, innocent newlyweds from the provinces, have just arrived in the city for the first time to meet Antonio's influential relatives who have offered him a job. Out of circumstance, Milly gets lost in Rome on her own - she eventually stumbling onto a movie set where she meets her idol Luca Salta - leading to her missing the important lunch meeting with Antonio's relatives. So Antonio ends up enlisting the aid of Anna, a seductive prostitute, to pose as Milly in front of his relatives. Antonio and Milly's respective doings that day affect the marriage and their future. In story 3, John Foy, an American architect now most famous for designing shopping centers, is visiting Rome for the first time in thirty years, the city where he lived as a student. As he leaves his wife Carol and their friends to act the tourists, John decides to visit his old haunts, where he meets Jack, literally him thirty years ago: a young American architecture student who lives in John's old apartment building. Jack and his girlfriend Sally, also a student, are at the last minute expecting a visit from Sally's best friend, Monica, an actress who needs time to commiserate over a recent break-up. As the sexual tension builds between Jack and Monica, John acts as their spirit guide, he who not only predicted issues because of Monica's visit, but whose objective advice is more often than not ignored by all the parties involved. And in story 4, Leopoldo leads an undistinguished life as husband and father, with the highlight of his and his male coworkers' day being to watch their boss' seductive secretary Serafina parade around the office. Without explanation, Leopoldo's life is turned upside down as he is thrust into fame and celebrity, where he is constantly followed by paparazzo and reporters, who want to document his every move. Despite some perks, he largely sees this celebrity as an imposition on what was his quiet life. He may view it differently if it all goes away./In Woody Allen's ensemble comedy To Rome With Love, various lives intersect in the Italian city. The characters include architect John (Alec Baldwin), a young man (Jesse Eisenberg) in love with his girlfriend's best friend, an opera director (Woody Allen) who finds an undiscovered talent in an unexpected place, and Leopoldo (Roberto Benigni), who inadvertently becomes one of the most famous people in Rome./Set in the romantic city of Rome. The intertwining stories of a worker who wakes up to find himself a celebrity, an architect who takes a trip back to the street he lived on as a student, a young couple on their honeymoon, and a frustrated opera director who has a talent for discovering talented singers.\"\n        ],\n        \"semantic_type\": \"\",\n        \"description\": \"\"\n      }\n    },\n    {\n      \"column\": \"biggest_title_summary\",\n      \"properties\": {\n        \"dtype\": \"string\",\n        \"num_unique_values\": 10896,\n        \"samples\": [\n          \"Arthur and his two children, Kathy and Bobby, inherit his Uncle Cyrus's estate: a glass house that serves as a prison to 12 ghosts. When the family, accompanied by Bobby's Nanny and an attorney, enter the house they find themselves trapped inside an evil machine \\\"designed by the devil and powered by the dead\\\" to open the Eye of Hell. Aided by Dennis, a ghost hunter, and his rival Kalina, a ghost rights activist out to set the ghosts free, the group must do what they can to get out of the house alive.\",\n          \"In the Antarctic, after an expedition with Dr. Davis McClaren, the sled dog trainer Jerry Shepherd has to leave the polar base with his colleagues due to the proximity of a heavy snow storm. He ties his dogs to be rescued after, but the mission is called-off and the dogs are left alone at their own fortune. For six months, Jerry tries to find a sponsor for a rescue mission while his dogs fight for survival.\",\n          \"Four unrelated but intercut stories are presented, each incorporating the mysticism of the Eternal City. In story 1, Hayley, a New Yorker, is vacationing in Rome for the summer. She meets native Roman, Michelangelo, a leftist lawyer, the two who fall in love and plan to get married at the end of the summer. Her parents, Jerry and Phyllis, a retired avant garde opera director and a therapist respectively, fly into Rome to meet Michelangelo and his family. Jerry hates the thought of Michelangelo's leftist ideals and goes into meeting him and his family with some disdain. However, Jerry, who equates retirement with death (according to therapist Phyllis), sees his new in-laws differently not so much when he meets Michelangelo's undertaker father, Giancarlo, but hears Giancarlo sing, he a great operatic tenor according to Jerry. However, Giancarlo, who has always quietly dreamed of singing professionally, has a singing crutch which Jerry will have to incorporate in any professional opportunity he provides for Giancarlo. In story 2, Antonio and Milly, innocent newlyweds from the provinces, have just arrived in the city for the first time to meet Antonio's influential relatives who have offered him a job. Out of circumstance, Milly gets lost in Rome on her own - she eventually stumbling onto a movie set where she meets her idol Luca Salta - leading to her missing the important lunch meeting with Antonio's relatives. So Antonio ends up enlisting the aid of Anna, a seductive prostitute, to pose as Milly in front of his relatives. Antonio and Milly's respective doings that day affect the marriage and their future. In story 3, John Foy, an American architect now most famous for designing shopping centers, is visiting Rome for the first time in thirty years, the city where he lived as a student. As he leaves his wife Carol and their friends to act the tourists, John decides to visit his old haunts, where he meets Jack, literally him thirty years ago: a young American architecture student who lives in John's old apartment building. Jack and his girlfriend Sally, also a student, are at the last minute expecting a visit from Sally's best friend, Monica, an actress who needs time to commiserate over a recent break-up. As the sexual tension builds between Jack and Monica, John acts as their spirit guide, he who not only predicted issues because of Monica's visit, but whose objective advice is more often than not ignored by all the parties involved. And in story 4, Leopoldo leads an undistinguished life as husband and father, with the highlight of his and his male coworkers' day being to watch their boss' seductive secretary Serafina parade around the office. Without explanation, Leopoldo's life is turned upside down as he is thrust into fame and celebrity, where he is constantly followed by paparazzo and reporters, who want to document his every move. Despite some perks, he largely sees this celebrity as an imposition on what was his quiet life. He may view it differently if it all goes away.\"\n        ],\n        \"semantic_type\": \"\",\n        \"description\": \"\"\n      }\n    }\n  ]\n}",
       "type": "dataframe",
       "variable_name": "df"
      },
      "text/html": [
       "\n",
       "  <div id=\"df-c6b8ef2d-99c7-4401-9e97-3ae6fb3eaeae\" class=\"colab-df-container\">\n",
       "    <div>\n",
       "<style scoped>\n",
       "    .dataframe tbody tr th:only-of-type {\n",
       "        vertical-align: middle;\n",
       "    }\n",
       "\n",
       "    .dataframe tbody tr th {\n",
       "        vertical-align: top;\n",
       "    }\n",
       "\n",
       "    .dataframe thead th {\n",
       "        text-align: right;\n",
       "    }\n",
       "</style>\n",
       "<table border=\"1\" class=\"dataframe\">\n",
       "  <thead>\n",
       "    <tr style=\"text-align: right;\">\n",
       "      <th></th>\n",
       "      <th>original_title_name</th>\n",
       "      <th>title_url</th>\n",
       "      <th>genres</th>\n",
       "      <th>cast</th>\n",
       "      <th>directors_creators</th>\n",
       "      <th>title_summary</th>\n",
       "      <th>biggest_title_summary</th>\n",
       "    </tr>\n",
       "  </thead>\n",
       "  <tbody>\n",
       "    <tr>\n",
       "      <th>0</th>\n",
       "      <td>A Perfect Getaway</td>\n",
       "      <td>https://www.imdb.com/title/tt0971209/</td>\n",
       "      <td>Drama, Mystery, Thriller</td>\n",
       "      <td>Milla Jovovich, Steve Zahn, Timothy Olyphant, ...</td>\n",
       "      <td>David Twohy</td>\n",
       "      <td>Two pairs of lovers on a Hawaiian vacation dis...</td>\n",
       "      <td>On Hawaiian honeymoon, Hollywood Screenwriter ...</td>\n",
       "    </tr>\n",
       "    <tr>\n",
       "      <th>1</th>\n",
       "      <td>Old Henry</td>\n",
       "      <td>https://www.imdb.com/title/tt12731980/</td>\n",
       "      <td>Action, Drama, Western</td>\n",
       "      <td>Tim Blake Nelson, Scott Haze, Gavin Lewis, Tra...</td>\n",
       "      <td>Potsy Ponciroli</td>\n",
       "      <td>A farmer takes in an injured man with a satche...</td>\n",
       "      <td>A long trail of blood and a worn-out leather s...</td>\n",
       "    </tr>\n",
       "    <tr>\n",
       "      <th>2</th>\n",
       "      <td>Copycat</td>\n",
       "      <td>https://www.imdb.com/title/tt0112722/</td>\n",
       "      <td>Drama, Mystery, Thriller</td>\n",
       "      <td>Sigourney Weaver, Holly Hunter, Dermot Mulrone...</td>\n",
       "      <td>Jon Amiel</td>\n",
       "      <td>A criminal psychologist who turned agoraphobic...</td>\n",
       "      <td>In San Francisco, the criminal psychologist He...</td>\n",
       "    </tr>\n",
       "    <tr>\n",
       "      <th>3</th>\n",
       "      <td>Rebecca</td>\n",
       "      <td>https://www.imdb.com/title/tt0032976/</td>\n",
       "      <td>Drama, Mystery, Romance, Thriller</td>\n",
       "      <td>Laurence Olivier, Joan Fontaine, George Sander...</td>\n",
       "      <td>Alfred Hitchcock</td>\n",
       "      <td>A self-conscious woman juggles adjusting to he...</td>\n",
       "      <td>\"It wouldn't make for sanity, would it? Living...</td>\n",
       "    </tr>\n",
       "    <tr>\n",
       "      <th>4</th>\n",
       "      <td>Catastrophe</td>\n",
       "      <td>https://www.imdb.com/title/tt4374208/</td>\n",
       "      <td>Comedy</td>\n",
       "      <td>Sharon Horgan, Rob Delaney, Mark Bonnar, Ashle...</td>\n",
       "      <td>No info</td>\n",
       "      <td>American man Rob gets Irish woman Sharon pregn...</td>\n",
       "      <td>American man Rob gets Irish woman Sharon pregn...</td>\n",
       "    </tr>\n",
       "  </tbody>\n",
       "</table>\n",
       "</div>\n",
       "    <div class=\"colab-df-buttons\">\n",
       "\n",
       "  <div class=\"colab-df-container\">\n",
       "    <button class=\"colab-df-convert\" onclick=\"convertToInteractive('df-c6b8ef2d-99c7-4401-9e97-3ae6fb3eaeae')\"\n",
       "            title=\"Convert this dataframe to an interactive table.\"\n",
       "            style=\"display:none;\">\n",
       "\n",
       "  <svg xmlns=\"http://www.w3.org/2000/svg\" height=\"24px\" viewBox=\"0 -960 960 960\">\n",
       "    <path d=\"M120-120v-720h720v720H120Zm60-500h600v-160H180v160Zm220 220h160v-160H400v160Zm0 220h160v-160H400v160ZM180-400h160v-160H180v160Zm440 0h160v-160H620v160ZM180-180h160v-160H180v160Zm440 0h160v-160H620v160Z\"/>\n",
       "  </svg>\n",
       "    </button>\n",
       "\n",
       "  <style>\n",
       "    .colab-df-container {\n",
       "      display:flex;\n",
       "      gap: 12px;\n",
       "    }\n",
       "\n",
       "    .colab-df-convert {\n",
       "      background-color: #E8F0FE;\n",
       "      border: none;\n",
       "      border-radius: 50%;\n",
       "      cursor: pointer;\n",
       "      display: none;\n",
       "      fill: #1967D2;\n",
       "      height: 32px;\n",
       "      padding: 0 0 0 0;\n",
       "      width: 32px;\n",
       "    }\n",
       "\n",
       "    .colab-df-convert:hover {\n",
       "      background-color: #E2EBFA;\n",
       "      box-shadow: 0px 1px 2px rgba(60, 64, 67, 0.3), 0px 1px 3px 1px rgba(60, 64, 67, 0.15);\n",
       "      fill: #174EA6;\n",
       "    }\n",
       "\n",
       "    .colab-df-buttons div {\n",
       "      margin-bottom: 4px;\n",
       "    }\n",
       "\n",
       "    [theme=dark] .colab-df-convert {\n",
       "      background-color: #3B4455;\n",
       "      fill: #D2E3FC;\n",
       "    }\n",
       "\n",
       "    [theme=dark] .colab-df-convert:hover {\n",
       "      background-color: #434B5C;\n",
       "      box-shadow: 0px 1px 3px 1px rgba(0, 0, 0, 0.15);\n",
       "      filter: drop-shadow(0px 1px 2px rgba(0, 0, 0, 0.3));\n",
       "      fill: #FFFFFF;\n",
       "    }\n",
       "  </style>\n",
       "\n",
       "    <script>\n",
       "      const buttonEl =\n",
       "        document.querySelector('#df-c6b8ef2d-99c7-4401-9e97-3ae6fb3eaeae button.colab-df-convert');\n",
       "      buttonEl.style.display =\n",
       "        google.colab.kernel.accessAllowed ? 'block' : 'none';\n",
       "\n",
       "      async function convertToInteractive(key) {\n",
       "        const element = document.querySelector('#df-c6b8ef2d-99c7-4401-9e97-3ae6fb3eaeae');\n",
       "        const dataTable =\n",
       "          await google.colab.kernel.invokeFunction('convertToInteractive',\n",
       "                                                    [key], {});\n",
       "        if (!dataTable) return;\n",
       "\n",
       "        const docLinkHtml = 'Like what you see? Visit the ' +\n",
       "          '<a target=\"_blank\" href=https://colab.research.google.com/notebooks/data_table.ipynb>data table notebook</a>'\n",
       "          + ' to learn more about interactive tables.';\n",
       "        element.innerHTML = '';\n",
       "        dataTable['output_type'] = 'display_data';\n",
       "        await google.colab.output.renderOutput(dataTable, element);\n",
       "        const docLink = document.createElement('div');\n",
       "        docLink.innerHTML = docLinkHtml;\n",
       "        element.appendChild(docLink);\n",
       "      }\n",
       "    </script>\n",
       "  </div>\n",
       "\n",
       "\n",
       "<div id=\"df-feadec1c-fea9-4c95-ad6c-7c44bcff1241\">\n",
       "  <button class=\"colab-df-quickchart\" onclick=\"quickchart('df-feadec1c-fea9-4c95-ad6c-7c44bcff1241')\"\n",
       "            title=\"Suggest charts\"\n",
       "            style=\"display:none;\">\n",
       "\n",
       "<svg xmlns=\"http://www.w3.org/2000/svg\" height=\"24px\"viewBox=\"0 0 24 24\"\n",
       "     width=\"24px\">\n",
       "    <g>\n",
       "        <path d=\"M19 3H5c-1.1 0-2 .9-2 2v14c0 1.1.9 2 2 2h14c1.1 0 2-.9 2-2V5c0-1.1-.9-2-2-2zM9 17H7v-7h2v7zm4 0h-2V7h2v10zm4 0h-2v-4h2v4z\"/>\n",
       "    </g>\n",
       "</svg>\n",
       "  </button>\n",
       "\n",
       "<style>\n",
       "  .colab-df-quickchart {\n",
       "      --bg-color: #E8F0FE;\n",
       "      --fill-color: #1967D2;\n",
       "      --hover-bg-color: #E2EBFA;\n",
       "      --hover-fill-color: #174EA6;\n",
       "      --disabled-fill-color: #AAA;\n",
       "      --disabled-bg-color: #DDD;\n",
       "  }\n",
       "\n",
       "  [theme=dark] .colab-df-quickchart {\n",
       "      --bg-color: #3B4455;\n",
       "      --fill-color: #D2E3FC;\n",
       "      --hover-bg-color: #434B5C;\n",
       "      --hover-fill-color: #FFFFFF;\n",
       "      --disabled-bg-color: #3B4455;\n",
       "      --disabled-fill-color: #666;\n",
       "  }\n",
       "\n",
       "  .colab-df-quickchart {\n",
       "    background-color: var(--bg-color);\n",
       "    border: none;\n",
       "    border-radius: 50%;\n",
       "    cursor: pointer;\n",
       "    display: none;\n",
       "    fill: var(--fill-color);\n",
       "    height: 32px;\n",
       "    padding: 0;\n",
       "    width: 32px;\n",
       "  }\n",
       "\n",
       "  .colab-df-quickchart:hover {\n",
       "    background-color: var(--hover-bg-color);\n",
       "    box-shadow: 0 1px 2px rgba(60, 64, 67, 0.3), 0 1px 3px 1px rgba(60, 64, 67, 0.15);\n",
       "    fill: var(--button-hover-fill-color);\n",
       "  }\n",
       "\n",
       "  .colab-df-quickchart-complete:disabled,\n",
       "  .colab-df-quickchart-complete:disabled:hover {\n",
       "    background-color: var(--disabled-bg-color);\n",
       "    fill: var(--disabled-fill-color);\n",
       "    box-shadow: none;\n",
       "  }\n",
       "\n",
       "  .colab-df-spinner {\n",
       "    border: 2px solid var(--fill-color);\n",
       "    border-color: transparent;\n",
       "    border-bottom-color: var(--fill-color);\n",
       "    animation:\n",
       "      spin 1s steps(1) infinite;\n",
       "  }\n",
       "\n",
       "  @keyframes spin {\n",
       "    0% {\n",
       "      border-color: transparent;\n",
       "      border-bottom-color: var(--fill-color);\n",
       "      border-left-color: var(--fill-color);\n",
       "    }\n",
       "    20% {\n",
       "      border-color: transparent;\n",
       "      border-left-color: var(--fill-color);\n",
       "      border-top-color: var(--fill-color);\n",
       "    }\n",
       "    30% {\n",
       "      border-color: transparent;\n",
       "      border-left-color: var(--fill-color);\n",
       "      border-top-color: var(--fill-color);\n",
       "      border-right-color: var(--fill-color);\n",
       "    }\n",
       "    40% {\n",
       "      border-color: transparent;\n",
       "      border-right-color: var(--fill-color);\n",
       "      border-top-color: var(--fill-color);\n",
       "    }\n",
       "    60% {\n",
       "      border-color: transparent;\n",
       "      border-right-color: var(--fill-color);\n",
       "    }\n",
       "    80% {\n",
       "      border-color: transparent;\n",
       "      border-right-color: var(--fill-color);\n",
       "      border-bottom-color: var(--fill-color);\n",
       "    }\n",
       "    90% {\n",
       "      border-color: transparent;\n",
       "      border-bottom-color: var(--fill-color);\n",
       "    }\n",
       "  }\n",
       "</style>\n",
       "\n",
       "  <script>\n",
       "    async function quickchart(key) {\n",
       "      const quickchartButtonEl =\n",
       "        document.querySelector('#' + key + ' button');\n",
       "      quickchartButtonEl.disabled = true;  // To prevent multiple clicks.\n",
       "      quickchartButtonEl.classList.add('colab-df-spinner');\n",
       "      try {\n",
       "        const charts = await google.colab.kernel.invokeFunction(\n",
       "            'suggestCharts', [key], {});\n",
       "      } catch (error) {\n",
       "        console.error('Error during call to suggestCharts:', error);\n",
       "      }\n",
       "      quickchartButtonEl.classList.remove('colab-df-spinner');\n",
       "      quickchartButtonEl.classList.add('colab-df-quickchart-complete');\n",
       "    }\n",
       "    (() => {\n",
       "      let quickchartButtonEl =\n",
       "        document.querySelector('#df-feadec1c-fea9-4c95-ad6c-7c44bcff1241 button');\n",
       "      quickchartButtonEl.style.display =\n",
       "        google.colab.kernel.accessAllowed ? 'block' : 'none';\n",
       "    })();\n",
       "  </script>\n",
       "</div>\n",
       "    </div>\n",
       "  </div>\n"
      ],
      "text/plain": [
       "  original_title_name                               title_url  \\\n",
       "0   A Perfect Getaway   https://www.imdb.com/title/tt0971209/   \n",
       "1           Old Henry  https://www.imdb.com/title/tt12731980/   \n",
       "2             Copycat   https://www.imdb.com/title/tt0112722/   \n",
       "3             Rebecca   https://www.imdb.com/title/tt0032976/   \n",
       "4         Catastrophe   https://www.imdb.com/title/tt4374208/   \n",
       "\n",
       "                              genres  \\\n",
       "0           Drama, Mystery, Thriller   \n",
       "1             Action, Drama, Western   \n",
       "2           Drama, Mystery, Thriller   \n",
       "3  Drama, Mystery, Romance, Thriller   \n",
       "4                             Comedy   \n",
       "\n",
       "                                                cast directors_creators  \\\n",
       "0  Milla Jovovich, Steve Zahn, Timothy Olyphant, ...        David Twohy   \n",
       "1  Tim Blake Nelson, Scott Haze, Gavin Lewis, Tra...    Potsy Ponciroli   \n",
       "2  Sigourney Weaver, Holly Hunter, Dermot Mulrone...          Jon Amiel   \n",
       "3  Laurence Olivier, Joan Fontaine, George Sander...   Alfred Hitchcock   \n",
       "4  Sharon Horgan, Rob Delaney, Mark Bonnar, Ashle...            No info   \n",
       "\n",
       "                                       title_summary  \\\n",
       "0  Two pairs of lovers on a Hawaiian vacation dis...   \n",
       "1  A farmer takes in an injured man with a satche...   \n",
       "2  A criminal psychologist who turned agoraphobic...   \n",
       "3  A self-conscious woman juggles adjusting to he...   \n",
       "4  American man Rob gets Irish woman Sharon pregn...   \n",
       "\n",
       "                               biggest_title_summary  \n",
       "0  On Hawaiian honeymoon, Hollywood Screenwriter ...  \n",
       "1  A long trail of blood and a worn-out leather s...  \n",
       "2  In San Francisco, the criminal psychologist He...  \n",
       "3  \"It wouldn't make for sanity, would it? Living...  \n",
       "4  American man Rob gets Irish woman Sharon pregn...  "
      ]
     },
     "execution_count": 81,
     "metadata": {},
     "output_type": "execute_result"
    }
   ],
   "source": [
    "df.head()"
   ]
  },
  {
   "cell_type": "markdown",
   "metadata": {
    "id": "ZhfBnCeyfi2j"
   },
   "source": [
    "## Remove punctuation, stopwords, making lemmaization words"
   ]
  },
  {
   "cell_type": "code",
   "execution_count": null,
   "metadata": {
    "id": "kFXQCK_TTqZ3"
   },
   "outputs": [],
   "source": [
    "def remove_punctuation(string, punctuation_to_remove=\"\"\"#$%\"-!&()*+,-./:;<=>?@[\\\\]^_`{|}~'\"\"\"):\n",
    "  return ''.join(char for char in string if char not in punctuation_to_remove)\n",
    "\n",
    "\n",
    "def remove_stop_words(string, stoplist=stop_words):\n",
    "  doc = nlp(string)\n",
    "  return ' '.join(token.text for token in doc if token.text not in stoplist)\n",
    "  # # simplest way to deal with stopwords\n",
    "  # words = string.split()\n",
    "  # return ' '.join(token for token in words if token not in stoplist)\n",
    "\n",
    "\n",
    "\n",
    "# lemmatization words\n",
    "def lemmatize(tokens):\n",
    "  doc = nlp(tokens)\n",
    "  return ' '.join(token.lemma_ for token in doc)\n",
    "\n",
    "\n",
    "df['text_for_recommendation'] = df['biggest_title_summary'].apply(lambda text: text.lower())\n",
    "df['text_for_recommendation'] = df['text_for_recommendation'].apply(remove_punctuation)\n",
    "df['text_for_recommendation'] = df['text_for_recommendation'].apply(remove_stop_words)\n",
    "df['text_for_recommendation'] = df['text_for_recommendation'].apply(lemmatize)"
   ]
  },
  {
   "cell_type": "code",
   "execution_count": null,
   "metadata": {
    "colab": {
     "base_uri": "https://localhost:8080/"
    },
    "id": "Qzo8UzhrZAF1",
    "outputId": "07b40976-9203-4c49-e2dd-cf3947352e65"
   },
   "outputs": [
    {
     "name": "stdout",
     "output_type": "stream",
     "text": [
      "On Hawaiian honeymoon, Hollywood Screenwriter Cliff Anderson and his bride Cydney go from Honolulu to pristine island Kaua'i for an adventurous hike in the nature reserve, for which Cliff forgets his permit in the supply store. Reluctance to give macho Kale and his girl Cleo a ride creates tension that remains when they meet on the trail, with a third couple taking the lead: studly special forces Irak veteran Nick, who even hunts wild goats, and his equally exhibitionist steady girl Gina. Receiving the news that a serial killer who murdered a couple on Oahu probably passed to the island, as they did, starts the couples mistrusting each-other. Furthermore they seem to be followed by mystery stalkers, as turns out of two kinds. After the battle of whit, a bloody struggle for survival is inevitable: the killer is among them and strikes, despite a police helicopter searching for him.\n",
      "\n",
      "\n",
      "hawaiian honeymoon hollywood screenwriter cliff anderson bride cydney honolulu pristine island kauai adventurous hike nature reserve cliff forgets permit supply store reluctance macho kale girl cleo ride create tension remain meet trail couple take lead studly special force irak veteran nick hunt wild goat equally exhibitionist steady girl gina receive news serial killer murder couple oahu probably pass island start couple mistrust eachother furthermore follow mystery stalker turn kind battle whit bloody struggle survival inevitable killer strike despite police helicopter search\n"
     ]
    }
   ],
   "source": [
    "# let's compare what we get\n",
    "print(df['biggest_title_summary'].iloc[0])\n",
    "print('\\n')\n",
    "print(df['text_for_recommendation'].iloc[0])"
   ]
  },
  {
   "cell_type": "markdown",
   "metadata": {
    "id": "MPc1dZq6gT_c"
   },
   "source": [
    "# Making simplest tf-idf movie content based recommendation system"
   ]
  },
  {
   "cell_type": "markdown",
   "metadata": {
    "id": "tHSmlNlD_kGI"
   },
   "source": [
    "## Title summary tf-idf recommendation system"
   ]
  },
  {
   "cell_type": "markdown",
   "metadata": {
    "id": "qucBsL3NhMEo"
   },
   "source": [
    "TfidfVectorizer - calculates term frequency-inverse document frequency value for each word(TF_IDF). TF-IDF increases the weight of terms that occur rarely. TF-IDF = term frequency * (1/document frequency)."
   ]
  },
  {
   "cell_type": "code",
   "execution_count": null,
   "metadata": {
    "id": "wm7fKMYPNHyv"
   },
   "outputs": [],
   "source": [
    "tfidf = TfidfVectorizer(stop_words='english')\n",
    "tfidf_matrix = tfidf.fit_transform(df[\"text_for_recommendation\"])\n",
    "\n",
    "# then we make cosine similarity matrix for future searching similar summary text\n",
    "cosine_sim_matrix = cosine_similarity(tfidf_matrix, tfidf_matrix)"
   ]
  },
  {
   "cell_type": "code",
   "execution_count": null,
   "metadata": {
    "id": "wlA9juEFNHyv"
   },
   "outputs": [],
   "source": [
    "# make simple function for searching top 10 similar titles\n",
    "\n",
    "def get_recommendation(movie, cosine_similarity_matrix):\n",
    "    movie_index = df[df[\"original_title_name\"] == movie].index[0]\n",
    "    sim_scores = list(enumerate(cosine_similarity_matrix[movie_index]))\n",
    "    sim_scores = sorted(sim_scores, key=lambda x: x[1], reverse=True)\n",
    "\n",
    "    # first movie is for what we try to find similar\n",
    "    sim_scores = sim_scores[1:11]\n",
    "    movie_indices = [i[0] for i in sim_scores]\n",
    "\n",
    "    return df[['original_title_name', 'title_url']].iloc[movie_indices]"
   ]
  },
  {
   "cell_type": "markdown",
   "metadata": {
    "id": "gL9e-UUakNdp"
   },
   "source": [
    "### Testing our simplest summary content based tf-idf recommendation system"
   ]
  },
  {
   "cell_type": "code",
   "execution_count": null,
   "metadata": {
    "colab": {
     "base_uri": "https://localhost:8080/"
    },
    "id": "NW1mvZmrh886",
    "outputId": "f1f67385-480f-4fb0-a4ab-f7b75c59bdac"
   },
   "outputs": [
    {
     "name": "stdout",
     "output_type": "stream",
     "text": [
      "========================================\n",
      "🎬 Recommendations for: \u001b[1mIron Man\u001b[0m\n",
      "========================================\n",
      "1. \u001b[1mIron Man 2\u001b[0m (https://www.imdb.com/title/tt1228705/).\n",
      "2. \u001b[1mIron Man Three\u001b[0m (https://www.imdb.com/title/tt1300854/).\n",
      "3. \u001b[1mZero Effect\u001b[0m (https://www.imdb.com/title/tt0120906/).\n",
      "4. \u001b[1mScarface\u001b[0m (https://www.imdb.com/title/tt0023427/).\n",
      "5. \u001b[1mMarried to the Mob\u001b[0m (https://www.imdb.com/title/tt0095593/).\n",
      "6. \u001b[1mUrban Legends: Final Cut\u001b[0m (https://www.imdb.com/title/tt0192731/).\n",
      "7. \u001b[1mHours\u001b[0m (https://www.imdb.com/title/tt2094018/).\n",
      "8. \u001b[1mThe Avengers\u001b[0m (https://www.imdb.com/title/tt0848228/).\n",
      "9. \u001b[1mThe Dark Half\u001b[0m (https://www.imdb.com/title/tt0106664/).\n",
      "10. \u001b[1mSpider-Man: Homecoming\u001b[0m (https://www.imdb.com/title/tt2250912/).\n",
      "\n",
      "========================================\n",
      "\n",
      "========================================\n",
      "🎬 Recommendations for: \u001b[1mThe Dark Knight\u001b[0m\n",
      "========================================\n",
      "1. \u001b[1mThe Dark Knight Rises\u001b[0m (https://www.imdb.com/title/tt1345836/).\n",
      "2. \u001b[1mBatman Returns\u001b[0m (https://www.imdb.com/title/tt0103776/).\n",
      "3. \u001b[1mBatman Begins\u001b[0m (https://www.imdb.com/title/tt0372784/).\n",
      "4. \u001b[1mBatman: The Long Halloween, Part Two\u001b[0m (https://www.imdb.com/title/tt14402926/).\n",
      "5. \u001b[1mBatman: Mask of the Phantasm\u001b[0m (https://www.imdb.com/title/tt0106364/).\n",
      "6. \u001b[1mBatman Ninja\u001b[0m (https://www.imdb.com/title/tt7451284/).\n",
      "7. \u001b[1mBatman Forever\u001b[0m (https://www.imdb.com/title/tt0112462/).\n",
      "8. \u001b[1mBatman\u001b[0m (https://www.imdb.com/title/tt0096895/).\n",
      "9. \u001b[1mBatman: The Killing Joke\u001b[0m (https://www.imdb.com/title/tt4853102/).\n",
      "10. \u001b[1mBatman: The Long Halloween, Part One\u001b[0m (https://www.imdb.com/title/tt14324650/).\n",
      "\n",
      "========================================\n",
      "\n",
      "========================================\n",
      "🎬 Recommendations for: \u001b[1mInterstellar\u001b[0m\n",
      "========================================\n",
      "1. \u001b[1mHang 'Em High\u001b[0m (https://www.imdb.com/title/tt0061747/).\n",
      "2. \u001b[1mThe Man with One Red Shoe\u001b[0m (https://www.imdb.com/title/tt0089543/).\n",
      "3. \u001b[1mLiu lang di qiu 2\u001b[0m (https://www.imdb.com/title/tt13539646/).\n",
      "4. \u001b[1mTwin Peaks\u001b[0m (https://www.imdb.com/title/tt0098936/).\n",
      "5. \u001b[1mTrap\u001b[0m (https://www.imdb.com/title/tt26753003/).\n",
      "6. \u001b[1mDead Man on Campus\u001b[0m (https://www.imdb.com/title/tt0118301/).\n",
      "7. \u001b[1mLiu lang di qiu\u001b[0m (https://www.imdb.com/title/tt7605074/).\n",
      "8. \u001b[1mPixels\u001b[0m (https://www.imdb.com/title/tt2120120/).\n",
      "9. \u001b[1mGood Kill\u001b[0m (https://www.imdb.com/title/tt3297330/).\n",
      "10. \u001b[1mV\u001b[0m (https://www.imdb.com/title/tt1307824/).\n",
      "\n",
      "========================================\n",
      "\n"
     ]
    }
   ],
   "source": [
    "# let's try to find out similar movies for Iron Man, The Dark Knight, Interstellar\n",
    "titles = ['Iron Man', 'The Dark Knight', 'Interstellar']\n",
    "\n",
    "for title in titles:\n",
    "    print(\"=\" * 40)\n",
    "    print(f\"🎬 Recommendations for: \\033[1m{title}\\033[0m\")\n",
    "    print(\"=\" * 40)\n",
    "\n",
    "    recommendations = get_recommendation(title, cosine_sim_matrix)\n",
    "\n",
    "    for indx, item in enumerate(recommendations.itertuples()):\n",
    "        print(f\"{indx+1}. \\033[1m{item.original_title_name}\\033[0m ({item.title_url}).\")\n",
    "\n",
    "    print(\"\\n\" + \"=\" * 40 + \"\\n\")"
   ]
  },
  {
   "cell_type": "markdown",
   "metadata": {
    "id": "6g-I6NXMpG0K"
   },
   "source": [
    "The results are decent, though not perfect. For example, we get good results with franchises like The Dark Knight (Batman), but with complicated movies like Interstellar, the results are a bit confusing. That means we get not full and good summary text or may be we should use more complex algorithm."
   ]
  },
  {
   "cell_type": "markdown",
   "metadata": {
    "id": "CggsYkX8_gI0"
   },
   "source": [
    "## Title summary and other title features tf-idf recommendation system"
   ]
  },
  {
   "cell_type": "code",
   "execution_count": null,
   "metadata": {
    "id": "_wumRZXIro6k"
   },
   "outputs": [],
   "source": [
    "# for clean text summary i just add genres, cast and directors text, let's see if that make recommendation system better\n",
    "\n",
    "df['greater_text_for_recommendation'] = (\n",
    "    df['text_for_recommendation'].fillna('') + ' ' +\n",
    "    df['genres'].fillna('').str.lower().str.replace(',', '') + ' ' +\n",
    "    df['cast'].fillna('').str.lower().str.replace(',', '') + ' ' +\n",
    "    df['directors_creators'].fillna('').str.lower().str.replace(',', '')\n",
    ")"
   ]
  },
  {
   "cell_type": "code",
   "execution_count": null,
   "metadata": {
    "id": "9u9S4pLOCFVX"
   },
   "outputs": [],
   "source": [
    "# not necessary, but create a new tfidf\n",
    "tfidf_2 = TfidfVectorizer(stop_words='english')\n",
    "tfidf_matrix_2 = tfidf_2.fit_transform(df[\"greater_text_for_recommendation\"])\n",
    "\n",
    "# then we make cosine similarity matrix for future searching similar summary text\n",
    "cosine_sim_matrix_2 = cosine_similarity(tfidf_matrix_2, tfidf_matrix_2)"
   ]
  },
  {
   "cell_type": "code",
   "execution_count": null,
   "metadata": {
    "id": "q7oBTAU4nwlY"
   },
   "outputs": [],
   "source": [
    "# save better tf-idf vectors\n",
    "np.save('tf_idf_title_vectors.npy', tfidf_matrix_2)"
   ]
  },
  {
   "cell_type": "markdown",
   "metadata": {
    "id": "Jt6wFv6-EosX"
   },
   "source": [
    "### Testing recommendation system with additional features"
   ]
  },
  {
   "cell_type": "code",
   "execution_count": null,
   "metadata": {
    "colab": {
     "base_uri": "https://localhost:8080/"
    },
    "id": "xxllKmyNCdjs",
    "outputId": "ea963dfb-a8d8-4db6-e475-2851d6c026f0"
   },
   "outputs": [
    {
     "name": "stdout",
     "output_type": "stream",
     "text": [
      "========================================\n",
      "🎬 Recommendations for: \u001b[1mIron Man\u001b[0m\n",
      "========================================\n",
      "1. \u001b[1mIron Man 2\u001b[0m (https://www.imdb.com/title/tt1228705/).\n",
      "2. \u001b[1mIron Man Three\u001b[0m (https://www.imdb.com/title/tt1300854/).\n",
      "3. \u001b[1mSpider-Man: Homecoming\u001b[0m (https://www.imdb.com/title/tt2250912/).\n",
      "4. \u001b[1mThe Avengers\u001b[0m (https://www.imdb.com/title/tt0848228/).\n",
      "5. \u001b[1mZero Effect\u001b[0m (https://www.imdb.com/title/tt0120906/).\n",
      "6. \u001b[1mHours\u001b[0m (https://www.imdb.com/title/tt2094018/).\n",
      "7. \u001b[1mThe Dark Half\u001b[0m (https://www.imdb.com/title/tt0106664/).\n",
      "8. \u001b[1mCaptain America: Civil War\u001b[0m (https://www.imdb.com/title/tt3498820/).\n",
      "9. \u001b[1mSpider-Man: Far from Home\u001b[0m (https://www.imdb.com/title/tt6320628/).\n",
      "10. \u001b[1mMarried to the Mob\u001b[0m (https://www.imdb.com/title/tt0095593/).\n",
      "\n",
      "========================================\n",
      "\n",
      "========================================\n",
      "🎬 Recommendations for: \u001b[1mThe Dark Knight\u001b[0m\n",
      "========================================\n",
      "1. \u001b[1mThe Dark Knight Rises\u001b[0m (https://www.imdb.com/title/tt1345836/).\n",
      "2. \u001b[1mBatman Begins\u001b[0m (https://www.imdb.com/title/tt0372784/).\n",
      "3. \u001b[1mBatman Returns\u001b[0m (https://www.imdb.com/title/tt0103776/).\n",
      "4. \u001b[1mBatman: Mask of the Phantasm\u001b[0m (https://www.imdb.com/title/tt0106364/).\n",
      "5. \u001b[1mBatman Forever\u001b[0m (https://www.imdb.com/title/tt0112462/).\n",
      "6. \u001b[1mBatman\u001b[0m (https://www.imdb.com/title/tt0096895/).\n",
      "7. \u001b[1mBatman Ninja\u001b[0m (https://www.imdb.com/title/tt7451284/).\n",
      "8. \u001b[1mBatman: The Long Halloween, Part One\u001b[0m (https://www.imdb.com/title/tt14324650/).\n",
      "9. \u001b[1mBatman: The Long Halloween, Part Two\u001b[0m (https://www.imdb.com/title/tt14402926/).\n",
      "10. \u001b[1mThe Lego Batman Movie\u001b[0m (https://www.imdb.com/title/tt4116284/).\n",
      "\n",
      "========================================\n",
      "\n",
      "========================================\n",
      "🎬 Recommendations for: \u001b[1mInterstellar\u001b[0m\n",
      "========================================\n",
      "1. \u001b[1mHang 'Em High\u001b[0m (https://www.imdb.com/title/tt0061747/).\n",
      "2. \u001b[1mConeheads\u001b[0m (https://www.imdb.com/title/tt0106598/).\n",
      "3. \u001b[1mThe Man with One Red Shoe\u001b[0m (https://www.imdb.com/title/tt0089543/).\n",
      "4. \u001b[1mMan of Steel\u001b[0m (https://www.imdb.com/title/tt0770828/).\n",
      "5. \u001b[1mClarkson's Farm\u001b[0m (https://www.imdb.com/title/tt10541088/).\n",
      "6. \u001b[1mHoward the Duck\u001b[0m (https://www.imdb.com/title/tt0091225/).\n",
      "7. \u001b[1mThe Martian\u001b[0m (https://www.imdb.com/title/tt3659388/).\n",
      "8. \u001b[1mSpace Cowboys\u001b[0m (https://www.imdb.com/title/tt0186566/).\n",
      "9. \u001b[1mAnother Earth\u001b[0m (https://www.imdb.com/title/tt1549572/).\n",
      "10. \u001b[1mLost in Space\u001b[0m (https://www.imdb.com/title/tt0120738/).\n",
      "\n",
      "========================================\n",
      "\n"
     ]
    }
   ],
   "source": [
    "titles = ['Iron Man', 'The Dark Knight', 'Interstellar']\n",
    "\n",
    "for title in titles:\n",
    "    print(\"=\" * 40)\n",
    "    print(f\"🎬 Recommendations for: \\033[1m{title}\\033[0m\")\n",
    "    print(\"=\" * 40)\n",
    "\n",
    "    recommendations = get_recommendation(title, cosine_sim_matrix_2)\n",
    "    for indx, item in enumerate(recommendations.itertuples()):\n",
    "        print(f\"{indx+1}. \\033[1m{item.original_title_name}\\033[0m ({item.title_url}).\")\n",
    "\n",
    "    print(\"\\n\" + \"=\" * 40 + \"\\n\")"
   ]
  },
  {
   "cell_type": "markdown",
   "metadata": {
    "id": "d2F4qqkzElLf"
   },
   "source": [
    "I get somewhat better results with this method than just using a simple title summary recommendation system. But the results aren't perfect because there aren't enough good, detailed title summaries or tf-idf cann't get complex imagination (of course it cann't) of text context and connections. That's why I will try using bert model for more complex movie recommendation."
   ]
  },
  {
   "cell_type": "markdown",
   "metadata": {
    "id": "LdgeQ774JiQN"
   },
   "source": [
    "# Making more complex recommendation system using SBERT"
   ]
  },
  {
   "cell_type": "code",
   "execution_count": null,
   "metadata": {
    "colab": {
     "base_uri": "https://localhost:8080/"
    },
    "id": "72pXCHJQJhJt",
    "outputId": "2a77f0e1-7cab-4490-abf5-5756c112a253"
   },
   "outputs": [
    {
     "name": "stdout",
     "output_type": "stream",
     "text": [
      "Requirement already satisfied: sentence_transformers in /usr/local/lib/python3.11/dist-packages (3.4.1)\n",
      "Requirement already satisfied: transformers<5.0.0,>=4.41.0 in /usr/local/lib/python3.11/dist-packages (from sentence_transformers) (4.48.3)\n",
      "Requirement already satisfied: tqdm in /usr/local/lib/python3.11/dist-packages (from sentence_transformers) (4.67.1)\n",
      "Requirement already satisfied: torch>=1.11.0 in /usr/local/lib/python3.11/dist-packages (from sentence_transformers) (2.6.0+cu124)\n",
      "Requirement already satisfied: scikit-learn in /usr/local/lib/python3.11/dist-packages (from sentence_transformers) (1.6.1)\n",
      "Requirement already satisfied: scipy in /usr/local/lib/python3.11/dist-packages (from sentence_transformers) (1.14.1)\n",
      "Requirement already satisfied: huggingface-hub>=0.20.0 in /usr/local/lib/python3.11/dist-packages (from sentence_transformers) (0.28.1)\n",
      "Requirement already satisfied: Pillow in /usr/local/lib/python3.11/dist-packages (from sentence_transformers) (11.1.0)\n",
      "Requirement already satisfied: filelock in /usr/local/lib/python3.11/dist-packages (from huggingface-hub>=0.20.0->sentence_transformers) (3.17.0)\n",
      "Requirement already satisfied: fsspec>=2023.5.0 in /usr/local/lib/python3.11/dist-packages (from huggingface-hub>=0.20.0->sentence_transformers) (2024.10.0)\n",
      "Requirement already satisfied: packaging>=20.9 in /usr/local/lib/python3.11/dist-packages (from huggingface-hub>=0.20.0->sentence_transformers) (24.2)\n",
      "Requirement already satisfied: pyyaml>=5.1 in /usr/local/lib/python3.11/dist-packages (from huggingface-hub>=0.20.0->sentence_transformers) (6.0.2)\n",
      "Requirement already satisfied: requests in /usr/local/lib/python3.11/dist-packages (from huggingface-hub>=0.20.0->sentence_transformers) (2.32.3)\n",
      "Requirement already satisfied: typing-extensions>=3.7.4.3 in /usr/local/lib/python3.11/dist-packages (from huggingface-hub>=0.20.0->sentence_transformers) (4.12.2)\n",
      "Requirement already satisfied: networkx in /usr/local/lib/python3.11/dist-packages (from torch>=1.11.0->sentence_transformers) (3.4.2)\n",
      "Requirement already satisfied: jinja2 in /usr/local/lib/python3.11/dist-packages (from torch>=1.11.0->sentence_transformers) (3.1.6)\n",
      "Collecting nvidia-cuda-nvrtc-cu12==12.4.127 (from torch>=1.11.0->sentence_transformers)\n",
      "  Downloading nvidia_cuda_nvrtc_cu12-12.4.127-py3-none-manylinux2014_x86_64.whl.metadata (1.5 kB)\n",
      "Collecting nvidia-cuda-runtime-cu12==12.4.127 (from torch>=1.11.0->sentence_transformers)\n",
      "  Downloading nvidia_cuda_runtime_cu12-12.4.127-py3-none-manylinux2014_x86_64.whl.metadata (1.5 kB)\n",
      "Collecting nvidia-cuda-cupti-cu12==12.4.127 (from torch>=1.11.0->sentence_transformers)\n",
      "  Downloading nvidia_cuda_cupti_cu12-12.4.127-py3-none-manylinux2014_x86_64.whl.metadata (1.6 kB)\n",
      "Collecting nvidia-cudnn-cu12==9.1.0.70 (from torch>=1.11.0->sentence_transformers)\n",
      "  Downloading nvidia_cudnn_cu12-9.1.0.70-py3-none-manylinux2014_x86_64.whl.metadata (1.6 kB)\n",
      "Collecting nvidia-cublas-cu12==12.4.5.8 (from torch>=1.11.0->sentence_transformers)\n",
      "  Downloading nvidia_cublas_cu12-12.4.5.8-py3-none-manylinux2014_x86_64.whl.metadata (1.5 kB)\n",
      "Collecting nvidia-cufft-cu12==11.2.1.3 (from torch>=1.11.0->sentence_transformers)\n",
      "  Downloading nvidia_cufft_cu12-11.2.1.3-py3-none-manylinux2014_x86_64.whl.metadata (1.5 kB)\n",
      "Collecting nvidia-curand-cu12==10.3.5.147 (from torch>=1.11.0->sentence_transformers)\n",
      "  Downloading nvidia_curand_cu12-10.3.5.147-py3-none-manylinux2014_x86_64.whl.metadata (1.5 kB)\n",
      "Collecting nvidia-cusolver-cu12==11.6.1.9 (from torch>=1.11.0->sentence_transformers)\n",
      "  Downloading nvidia_cusolver_cu12-11.6.1.9-py3-none-manylinux2014_x86_64.whl.metadata (1.6 kB)\n",
      "Collecting nvidia-cusparse-cu12==12.3.1.170 (from torch>=1.11.0->sentence_transformers)\n",
      "  Downloading nvidia_cusparse_cu12-12.3.1.170-py3-none-manylinux2014_x86_64.whl.metadata (1.6 kB)\n",
      "Requirement already satisfied: nvidia-cusparselt-cu12==0.6.2 in /usr/local/lib/python3.11/dist-packages (from torch>=1.11.0->sentence_transformers) (0.6.2)\n",
      "Requirement already satisfied: nvidia-nccl-cu12==2.21.5 in /usr/local/lib/python3.11/dist-packages (from torch>=1.11.0->sentence_transformers) (2.21.5)\n",
      "Requirement already satisfied: nvidia-nvtx-cu12==12.4.127 in /usr/local/lib/python3.11/dist-packages (from torch>=1.11.0->sentence_transformers) (12.4.127)\n",
      "Collecting nvidia-nvjitlink-cu12==12.4.127 (from torch>=1.11.0->sentence_transformers)\n",
      "  Downloading nvidia_nvjitlink_cu12-12.4.127-py3-none-manylinux2014_x86_64.whl.metadata (1.5 kB)\n",
      "Requirement already satisfied: triton==3.2.0 in /usr/local/lib/python3.11/dist-packages (from torch>=1.11.0->sentence_transformers) (3.2.0)\n",
      "Requirement already satisfied: sympy==1.13.1 in /usr/local/lib/python3.11/dist-packages (from torch>=1.11.0->sentence_transformers) (1.13.1)\n",
      "Requirement already satisfied: mpmath<1.4,>=1.1.0 in /usr/local/lib/python3.11/dist-packages (from sympy==1.13.1->torch>=1.11.0->sentence_transformers) (1.3.0)\n",
      "Requirement already satisfied: numpy>=1.17 in /usr/local/lib/python3.11/dist-packages (from transformers<5.0.0,>=4.41.0->sentence_transformers) (2.0.2)\n",
      "Requirement already satisfied: regex!=2019.12.17 in /usr/local/lib/python3.11/dist-packages (from transformers<5.0.0,>=4.41.0->sentence_transformers) (2024.11.6)\n",
      "Requirement already satisfied: tokenizers<0.22,>=0.21 in /usr/local/lib/python3.11/dist-packages (from transformers<5.0.0,>=4.41.0->sentence_transformers) (0.21.1)\n",
      "Requirement already satisfied: safetensors>=0.4.1 in /usr/local/lib/python3.11/dist-packages (from transformers<5.0.0,>=4.41.0->sentence_transformers) (0.5.3)\n",
      "Requirement already satisfied: joblib>=1.2.0 in /usr/local/lib/python3.11/dist-packages (from scikit-learn->sentence_transformers) (1.4.2)\n",
      "Requirement already satisfied: threadpoolctl>=3.1.0 in /usr/local/lib/python3.11/dist-packages (from scikit-learn->sentence_transformers) (3.6.0)\n",
      "Requirement already satisfied: MarkupSafe>=2.0 in /usr/local/lib/python3.11/dist-packages (from jinja2->torch>=1.11.0->sentence_transformers) (3.0.2)\n",
      "Requirement already satisfied: charset-normalizer<4,>=2 in /usr/local/lib/python3.11/dist-packages (from requests->huggingface-hub>=0.20.0->sentence_transformers) (3.4.1)\n",
      "Requirement already satisfied: idna<4,>=2.5 in /usr/local/lib/python3.11/dist-packages (from requests->huggingface-hub>=0.20.0->sentence_transformers) (3.10)\n",
      "Requirement already satisfied: urllib3<3,>=1.21.1 in /usr/local/lib/python3.11/dist-packages (from requests->huggingface-hub>=0.20.0->sentence_transformers) (2.3.0)\n",
      "Requirement already satisfied: certifi>=2017.4.17 in /usr/local/lib/python3.11/dist-packages (from requests->huggingface-hub>=0.20.0->sentence_transformers) (2025.1.31)\n",
      "Downloading nvidia_cublas_cu12-12.4.5.8-py3-none-manylinux2014_x86_64.whl (363.4 MB)\n",
      "\u001b[2K   \u001b[90m━━━━━━━━━━━━━━━━━━━━━━━━━━━━━━━━━━━━━━━━\u001b[0m \u001b[32m363.4/363.4 MB\u001b[0m \u001b[31m4.8 MB/s\u001b[0m eta \u001b[36m0:00:00\u001b[0m\n",
      "\u001b[?25hDownloading nvidia_cuda_cupti_cu12-12.4.127-py3-none-manylinux2014_x86_64.whl (13.8 MB)\n",
      "\u001b[2K   \u001b[90m━━━━━━━━━━━━━━━━━━━━━━━━━━━━━━━━━━━━━━━━\u001b[0m \u001b[32m13.8/13.8 MB\u001b[0m \u001b[31m89.0 MB/s\u001b[0m eta \u001b[36m0:00:00\u001b[0m\n",
      "\u001b[?25hDownloading nvidia_cuda_nvrtc_cu12-12.4.127-py3-none-manylinux2014_x86_64.whl (24.6 MB)\n",
      "\u001b[2K   \u001b[90m━━━━━━━━━━━━━━━━━━━━━━━━━━━━━━━━━━━━━━━━\u001b[0m \u001b[32m24.6/24.6 MB\u001b[0m \u001b[31m23.3 MB/s\u001b[0m eta \u001b[36m0:00:00\u001b[0m\n",
      "\u001b[?25hDownloading nvidia_cuda_runtime_cu12-12.4.127-py3-none-manylinux2014_x86_64.whl (883 kB)\n",
      "\u001b[2K   \u001b[90m━━━━━━━━━━━━━━━━━━━━━━━━━━━━━━━━━━━━━━━━\u001b[0m \u001b[32m883.7/883.7 kB\u001b[0m \u001b[31m43.4 MB/s\u001b[0m eta \u001b[36m0:00:00\u001b[0m\n",
      "\u001b[?25hDownloading nvidia_cudnn_cu12-9.1.0.70-py3-none-manylinux2014_x86_64.whl (664.8 MB)\n",
      "\u001b[2K   \u001b[90m━━━━━━━━━━━━━━━━━━━━━━━━━━━━━━━━━━━━━━━━\u001b[0m \u001b[32m664.8/664.8 MB\u001b[0m \u001b[31m746.8 kB/s\u001b[0m eta \u001b[36m0:00:00\u001b[0m\n",
      "\u001b[?25hDownloading nvidia_cufft_cu12-11.2.1.3-py3-none-manylinux2014_x86_64.whl (211.5 MB)\n",
      "\u001b[2K   \u001b[90m━━━━━━━━━━━━━━━━━━━━━━━━━━━━━━━━━━━━━━━━\u001b[0m \u001b[32m211.5/211.5 MB\u001b[0m \u001b[31m6.2 MB/s\u001b[0m eta \u001b[36m0:00:00\u001b[0m\n",
      "\u001b[?25hDownloading nvidia_curand_cu12-10.3.5.147-py3-none-manylinux2014_x86_64.whl (56.3 MB)\n",
      "\u001b[2K   \u001b[90m━━━━━━━━━━━━━━━━━━━━━━━━━━━━━━━━━━━━━━━━\u001b[0m \u001b[32m56.3/56.3 MB\u001b[0m \u001b[31m13.7 MB/s\u001b[0m eta \u001b[36m0:00:00\u001b[0m\n",
      "\u001b[?25hDownloading nvidia_cusolver_cu12-11.6.1.9-py3-none-manylinux2014_x86_64.whl (127.9 MB)\n",
      "\u001b[2K   \u001b[90m━━━━━━━━━━━━━━━━━━━━━━━━━━━━━━━━━━━━━━━━\u001b[0m \u001b[32m127.9/127.9 MB\u001b[0m \u001b[31m7.0 MB/s\u001b[0m eta \u001b[36m0:00:00\u001b[0m\n",
      "\u001b[?25hDownloading nvidia_cusparse_cu12-12.3.1.170-py3-none-manylinux2014_x86_64.whl (207.5 MB)\n",
      "\u001b[2K   \u001b[90m━━━━━━━━━━━━━━━━━━━━━━━━━━━━━━━━━━━━━━━━\u001b[0m \u001b[32m207.5/207.5 MB\u001b[0m \u001b[31m2.8 MB/s\u001b[0m eta \u001b[36m0:00:00\u001b[0m\n",
      "\u001b[?25hDownloading nvidia_nvjitlink_cu12-12.4.127-py3-none-manylinux2014_x86_64.whl (21.1 MB)\n",
      "\u001b[2K   \u001b[90m━━━━━━━━━━━━━━━━━━━━━━━━━━━━━━━━━━━━━━━━\u001b[0m \u001b[32m21.1/21.1 MB\u001b[0m \u001b[31m80.4 MB/s\u001b[0m eta \u001b[36m0:00:00\u001b[0m\n",
      "\u001b[?25hInstalling collected packages: nvidia-nvjitlink-cu12, nvidia-curand-cu12, nvidia-cufft-cu12, nvidia-cuda-runtime-cu12, nvidia-cuda-nvrtc-cu12, nvidia-cuda-cupti-cu12, nvidia-cublas-cu12, nvidia-cusparse-cu12, nvidia-cudnn-cu12, nvidia-cusolver-cu12\n",
      "  Attempting uninstall: nvidia-nvjitlink-cu12\n",
      "    Found existing installation: nvidia-nvjitlink-cu12 12.5.82\n",
      "    Uninstalling nvidia-nvjitlink-cu12-12.5.82:\n",
      "      Successfully uninstalled nvidia-nvjitlink-cu12-12.5.82\n",
      "  Attempting uninstall: nvidia-curand-cu12\n",
      "    Found existing installation: nvidia-curand-cu12 10.3.6.82\n",
      "    Uninstalling nvidia-curand-cu12-10.3.6.82:\n",
      "      Successfully uninstalled nvidia-curand-cu12-10.3.6.82\n",
      "  Attempting uninstall: nvidia-cufft-cu12\n",
      "    Found existing installation: nvidia-cufft-cu12 11.2.3.61\n",
      "    Uninstalling nvidia-cufft-cu12-11.2.3.61:\n",
      "      Successfully uninstalled nvidia-cufft-cu12-11.2.3.61\n",
      "  Attempting uninstall: nvidia-cuda-runtime-cu12\n",
      "    Found existing installation: nvidia-cuda-runtime-cu12 12.5.82\n",
      "    Uninstalling nvidia-cuda-runtime-cu12-12.5.82:\n",
      "      Successfully uninstalled nvidia-cuda-runtime-cu12-12.5.82\n",
      "  Attempting uninstall: nvidia-cuda-nvrtc-cu12\n",
      "    Found existing installation: nvidia-cuda-nvrtc-cu12 12.5.82\n",
      "    Uninstalling nvidia-cuda-nvrtc-cu12-12.5.82:\n",
      "      Successfully uninstalled nvidia-cuda-nvrtc-cu12-12.5.82\n",
      "  Attempting uninstall: nvidia-cuda-cupti-cu12\n",
      "    Found existing installation: nvidia-cuda-cupti-cu12 12.5.82\n",
      "    Uninstalling nvidia-cuda-cupti-cu12-12.5.82:\n",
      "      Successfully uninstalled nvidia-cuda-cupti-cu12-12.5.82\n",
      "  Attempting uninstall: nvidia-cublas-cu12\n",
      "    Found existing installation: nvidia-cublas-cu12 12.5.3.2\n",
      "    Uninstalling nvidia-cublas-cu12-12.5.3.2:\n",
      "      Successfully uninstalled nvidia-cublas-cu12-12.5.3.2\n",
      "  Attempting uninstall: nvidia-cusparse-cu12\n",
      "    Found existing installation: nvidia-cusparse-cu12 12.5.1.3\n",
      "    Uninstalling nvidia-cusparse-cu12-12.5.1.3:\n",
      "      Successfully uninstalled nvidia-cusparse-cu12-12.5.1.3\n",
      "  Attempting uninstall: nvidia-cudnn-cu12\n",
      "    Found existing installation: nvidia-cudnn-cu12 9.3.0.75\n",
      "    Uninstalling nvidia-cudnn-cu12-9.3.0.75:\n",
      "      Successfully uninstalled nvidia-cudnn-cu12-9.3.0.75\n",
      "  Attempting uninstall: nvidia-cusolver-cu12\n",
      "    Found existing installation: nvidia-cusolver-cu12 11.6.3.83\n",
      "    Uninstalling nvidia-cusolver-cu12-11.6.3.83:\n",
      "      Successfully uninstalled nvidia-cusolver-cu12-11.6.3.83\n",
      "Successfully installed nvidia-cublas-cu12-12.4.5.8 nvidia-cuda-cupti-cu12-12.4.127 nvidia-cuda-nvrtc-cu12-12.4.127 nvidia-cuda-runtime-cu12-12.4.127 nvidia-cudnn-cu12-9.1.0.70 nvidia-cufft-cu12-11.2.1.3 nvidia-curand-cu12-10.3.5.147 nvidia-cusolver-cu12-11.6.1.9 nvidia-cusparse-cu12-12.3.1.170 nvidia-nvjitlink-cu12-12.4.127\n"
     ]
    }
   ],
   "source": [
    "!pip install sentence_transformers"
   ]
  },
  {
   "cell_type": "code",
   "execution_count": null,
   "metadata": {
    "id": "O-97fnEHMXKH"
   },
   "outputs": [],
   "source": [
    "import tensorflow as tf\n",
    "\n",
    "from sentence_transformers import SentenceTransformer\n",
    "from sentence_transformers import util"
   ]
  },
  {
   "cell_type": "code",
   "execution_count": null,
   "metadata": {
    "colab": {
     "base_uri": "https://localhost:8080/",
     "height": 505,
     "referenced_widgets": [
      "f77d3bc2358647718c123f180234c9fc",
      "0c19f063788e47ddaa1ce2d059b20067",
      "41d8b0d7e4cd49009f5addecf77dccdb",
      "83cd4329b81242e6a02b627a940c8dd2",
      "3af2da1d675c404589b90e0009c614b7",
      "fd18a3beeb874442857b88e9c104eb61",
      "2c88124d5b4e4ad5958a53f4f85c11f0",
      "7e394f7763f54c87ac65f0c9a301392b",
      "2c8f3b00dbce4728a99ea8763d530827",
      "09be95d4692a4f398edddc4649c0fd46",
      "c6ea3403be8642749c72b66191c40a82",
      "1698dac0e65e48dc8b519dd52f22e8d0",
      "75b9ddddad814d8bb169c8d0d91ac340",
      "19a3ef99c1124686824986a0ac9535c7",
      "b8b3eb00102543b39da2bf67b3cabd1a",
      "b180d3d082874052b3b3bb078e808611",
      "1e09ec5b663c43e79b74afdfda0ffade",
      "98fbab3d5919407fb11e1fd89552749e",
      "4da62aaab5184a1fa3c0dc060cccbfc8",
      "0440f6c7250142f79768766fceebb8ee",
      "6946a5b398a6499b886f27966085e8c8",
      "5cf3307dfe7142c6a5ef7a15bb557b01",
      "93b83b8c6982494b8e4d61847198a96e",
      "0bff09f4dcb1471c88ef35618b1777dc",
      "e5b5fe0215c54cf08c240c8ae30dd0bf",
      "505bdca96d58478f80b42ba139e121e1",
      "0e21e6fbae144cb99a4e364a95193318",
      "a8e65856c5d04e9a85c340e705d2fdfb",
      "37fda291589c42e4937bfc2cc5f1671d",
      "c47ce12a0a2540da816c29d494b92efc",
      "86e3fd0dae7949dc945a7d0c5b4f74bc",
      "76c7ac56bc924f38a01a33c1603658a4",
      "759e8cebfc4442619c9073829153b576",
      "bab530b7ba144bde989d67d4363784c3",
      "7e8609857599406fa5d0dd0aec03d536",
      "6e59acb760494de7b35fdee802b5d53f",
      "ed08e829cd6d40c192d8010f01700818",
      "79874c851ff242fcb7eb27dab54e29f9",
      "9829006c44944a6d849fea21ea34ad09",
      "9ca5039f2b8c49f8bc2d91ed7062db35",
      "6a27353aed2d4273bbdd24ccdc6c6ef5",
      "efe5ccc5eefa49e080faa3baecf0c24b",
      "cab475ecd10446cba36c08e8dab4f51b",
      "13aab21d80c0435481c48f347386f6f5",
      "64b7bfdb420c48d29db5f3d54209aa15",
      "c357a3fa8b6d4ec196c73269fdfdfae8",
      "2bfb16c786ca4bab808d924b56358396",
      "ade361b97dd1458ebd8e3624677f6873",
      "ad49d6b5cc754a6a854c49a370e61b1d",
      "9cf99af4de604a7a9ac0d487d506a52c",
      "10d97c24c3724ca1827f57bf2c53215c",
      "caa06546b71d43f1843475ddf4fea7eb",
      "a168a14d0b5e40a6b99ce41f7d1b7fd2",
      "e2c154946708443b9dbfb530fcc1ef2d",
      "02a0bf4c4b194498975b279565ed8199",
      "b5c5011b1d5949ea91d8947abaf86b8a",
      "e9d0410b0c5a4b958b4687731a5812ae",
      "0db44b44e81d42b0b2dbd86826896bab",
      "f9425c064ee9428b9a3b63aaa3f00810",
      "fc2b2cf00cec4516be0d3994797592c3",
      "29253cccbc09418d916654170cdc5733",
      "0baa77cca5e746868d1a05d9983e6e75",
      "ae8a810f248d4bcb99f0875d753c44c0",
      "20165da57d454e4384b1c5ea9bf5fe27",
      "d7a6555704d6461b998ecf87534cf66d",
      "8bbbe1b3e5f040feb99cb00df5edf4c7",
      "69e11f0794af4bda8c4d3ebcf1a0c8f4",
      "267396a3ce9643129f3757306e993c8e",
      "06ed53dfa5b04236a502be9ad5bb7843",
      "e5cb81d138724cad8f02da28b9f4b15f",
      "306ee6aaeb1545d7a8b00154628d89fe",
      "11297ea12e804521abd7f7bb1a869eca",
      "17b89a7ca6da4b679b33d8c64aa9e0cd",
      "3cd4618a8d414b67aaafcc02aecfa39e",
      "ae2d6127d5db4d7f90b57af13c0f24c6",
      "f12d0614102545618f46ab92982f3bf0",
      "21877aa216e948c7bc0ddcebe5eea6a1",
      "5c35484f5e80440b83802224ed4ec612",
      "d77dc6fbb6b94936bc598427d77b1f59",
      "6415b3299c2a40799c4ab253d045018d",
      "4096d90b226f4affb282a15efb35df70",
      "9c1fdba694074b2f97ad9e9e5bfab927",
      "61ce79df768840678e82f1c7c1a5772f",
      "6c084d8b7d14448a9f45e7089b645551",
      "8f165370209a4fb2993ff84330dccb7b",
      "cfb9046cc2dd45e6aa2077508d84620e",
      "02b86b13238a45838c90d2670ded26bb",
      "f9cf4b13ab9947d9977642e521b7fbf4",
      "a8f73599ffe9429e801d6fa4e95a6576",
      "3f1b90e48aa44bc5b0228dddc507f330",
      "23f09edb35b04b88b8db5775fb46a60a",
      "8a3957b153d147658fa672ed3a5bc900",
      "845bff4e125c4ae5b975370da58ad8b9",
      "effbf8fc64d04e9cb2e73d0091437d23",
      "6764f371da2743c698945e1088c71522",
      "bcf51bbb70ef4aadb27a33f3f0496b03",
      "286f1a9292c64685ba92f39cf28e3d6e",
      "fabd730d15a14af0bf599685a72eb052",
      "5dd72fddb4ad40c2bd15ab0530a9ef6a",
      "6501ab1738b649fc90ba1b5b4036f9ba",
      "4169d45bebf14579b81b18d93bc8f9c0",
      "acb83f5531dc4e149e5dcadff5854a13",
      "3bfb58d5743242a48a93fd5c777cd350",
      "202ed55c003e402ea65e7ef3e76ece79",
      "eb6e1c0ec06547b1b414cb50476e7dc2",
      "3fc3275d4cb145c982ada070cc532c19",
      "75aed14984f746899be8f84deb48ff10",
      "f41f86bd260142fc9b9d1e6305948eb2",
      "3c835a4713fa47b48d3e8130f1d7b639",
      "25a71dd9e253419f87676abf24a46f3b",
      "833a04e08fd54804ae830e6c0579e7cb",
      "38c718e0284745f7a1bdb350ffe4f230",
      "3b075f12694344b08e91e2ffb5164d7d",
      "74840d38d43745a680bd92a2b71f91c6",
      "caa7f488915d4078a41c7b262ec997cd",
      "d189193e3d784438b90c1fecd1eb25ae",
      "0d75247af026408ea269f70d3f7405f9",
      "0a6f4db316884ba7bf5da2b34831f199",
      "4e82526631b346faa9ed07d7b8feb092",
      "a1f6ae142af94565b88a2fd2304d5753",
      "72ff1f5f4bd04f98ada38026e7803502",
      "81c98c3bcd1e40f68d40ff848eec774f",
      "5c31d001b6b44286971ca0d1a6827ae1",
      "377a70a56d62401bbdd2c9bc1f8978e5",
      "adde795a853c4463b06710e0f6440aba",
      "dce97c6cb553420882fb6657e313e323",
      "8d11f93a868744c5b3a5909d00a92a0b",
      "8ab414f05fdd4142be33ba4554a17a79",
      "d2ef7d0faa214524bf66a50d3fc567e7",
      "2da8a280e2a84922b9f0e4877488a319",
      "55e9404234034cffb69a16f4f9e72819",
      "d616ec573bf14884880121f8fe6fdc7b"
     ]
    },
    "id": "FPoaEUgoNoQK",
    "outputId": "5f418b63-df05-4b5f-d317-0a1c4991858c"
   },
   "outputs": [
    {
     "name": "stderr",
     "output_type": "stream",
     "text": [
      "/usr/local/lib/python3.11/dist-packages/huggingface_hub/utils/_auth.py:94: UserWarning: \n",
      "The secret `HF_TOKEN` does not exist in your Colab secrets.\n",
      "To authenticate with the Hugging Face Hub, create a token in your settings tab (https://huggingface.co/settings/tokens), set it as secret in your Google Colab and restart your session.\n",
      "You will be able to reuse this secret in all of your notebooks.\n",
      "Please note that authentication is recommended but still optional to access public models or datasets.\n",
      "  warnings.warn(\n"
     ]
    },
    {
     "data": {
      "application/vnd.jupyter.widget-view+json": {
       "model_id": "f77d3bc2358647718c123f180234c9fc",
       "version_major": 2,
       "version_minor": 0
      },
      "text/plain": [
       "modules.json:   0%|          | 0.00/349 [00:00<?, ?B/s]"
      ]
     },
     "metadata": {},
     "output_type": "display_data"
    },
    {
     "data": {
      "application/vnd.jupyter.widget-view+json": {
       "model_id": "1698dac0e65e48dc8b519dd52f22e8d0",
       "version_major": 2,
       "version_minor": 0
      },
      "text/plain": [
       "config_sentence_transformers.json:   0%|          | 0.00/116 [00:00<?, ?B/s]"
      ]
     },
     "metadata": {},
     "output_type": "display_data"
    },
    {
     "data": {
      "application/vnd.jupyter.widget-view+json": {
       "model_id": "93b83b8c6982494b8e4d61847198a96e",
       "version_major": 2,
       "version_minor": 0
      },
      "text/plain": [
       "README.md:   0%|          | 0.00/10.5k [00:00<?, ?B/s]"
      ]
     },
     "metadata": {},
     "output_type": "display_data"
    },
    {
     "data": {
      "application/vnd.jupyter.widget-view+json": {
       "model_id": "bab530b7ba144bde989d67d4363784c3",
       "version_major": 2,
       "version_minor": 0
      },
      "text/plain": [
       "sentence_bert_config.json:   0%|          | 0.00/53.0 [00:00<?, ?B/s]"
      ]
     },
     "metadata": {},
     "output_type": "display_data"
    },
    {
     "data": {
      "application/vnd.jupyter.widget-view+json": {
       "model_id": "64b7bfdb420c48d29db5f3d54209aa15",
       "version_major": 2,
       "version_minor": 0
      },
      "text/plain": [
       "config.json:   0%|          | 0.00/612 [00:00<?, ?B/s]"
      ]
     },
     "metadata": {},
     "output_type": "display_data"
    },
    {
     "data": {
      "application/vnd.jupyter.widget-view+json": {
       "model_id": "b5c5011b1d5949ea91d8947abaf86b8a",
       "version_major": 2,
       "version_minor": 0
      },
      "text/plain": [
       "model.safetensors:   0%|          | 0.00/90.9M [00:00<?, ?B/s]"
      ]
     },
     "metadata": {},
     "output_type": "display_data"
    },
    {
     "data": {
      "application/vnd.jupyter.widget-view+json": {
       "model_id": "69e11f0794af4bda8c4d3ebcf1a0c8f4",
       "version_major": 2,
       "version_minor": 0
      },
      "text/plain": [
       "tokenizer_config.json:   0%|          | 0.00/350 [00:00<?, ?B/s]"
      ]
     },
     "metadata": {},
     "output_type": "display_data"
    },
    {
     "data": {
      "application/vnd.jupyter.widget-view+json": {
       "model_id": "5c35484f5e80440b83802224ed4ec612",
       "version_major": 2,
       "version_minor": 0
      },
      "text/plain": [
       "vocab.txt:   0%|          | 0.00/232k [00:00<?, ?B/s]"
      ]
     },
     "metadata": {},
     "output_type": "display_data"
    },
    {
     "data": {
      "application/vnd.jupyter.widget-view+json": {
       "model_id": "a8f73599ffe9429e801d6fa4e95a6576",
       "version_major": 2,
       "version_minor": 0
      },
      "text/plain": [
       "tokenizer.json:   0%|          | 0.00/466k [00:00<?, ?B/s]"
      ]
     },
     "metadata": {},
     "output_type": "display_data"
    },
    {
     "data": {
      "application/vnd.jupyter.widget-view+json": {
       "model_id": "6501ab1738b649fc90ba1b5b4036f9ba",
       "version_major": 2,
       "version_minor": 0
      },
      "text/plain": [
       "special_tokens_map.json:   0%|          | 0.00/112 [00:00<?, ?B/s]"
      ]
     },
     "metadata": {},
     "output_type": "display_data"
    },
    {
     "data": {
      "application/vnd.jupyter.widget-view+json": {
       "model_id": "833a04e08fd54804ae830e6c0579e7cb",
       "version_major": 2,
       "version_minor": 0
      },
      "text/plain": [
       "config.json:   0%|          | 0.00/190 [00:00<?, ?B/s]"
      ]
     },
     "metadata": {},
     "output_type": "display_data"
    },
    {
     "data": {
      "application/vnd.jupyter.widget-view+json": {
       "model_id": "81c98c3bcd1e40f68d40ff848eec774f",
       "version_major": 2,
       "version_minor": 0
      },
      "text/plain": [
       "Batches:   0%|          | 0/341 [00:00<?, ?it/s]"
      ]
     },
     "metadata": {},
     "output_type": "display_data"
    }
   ],
   "source": [
    "# for this SBERT model we can use non preprocessing data\n",
    "text_list = list(df['biggest_title_summary'])\n",
    "\n",
    "model = SentenceTransformer('all-MiniLM-L6-v2')\n",
    "title_summary_embeddings = model.encode(text_list, show_progress_bar=True)"
   ]
  },
  {
   "cell_type": "code",
   "execution_count": null,
   "metadata": {
    "id": "ScXAgIWUoBLn"
   },
   "outputs": [],
   "source": [
    "# save sbert embeddings for future usage\n",
    "np.save('sbert_title_vectors.npy', title_summary_embeddings)"
   ]
  },
  {
   "cell_type": "code",
   "execution_count": null,
   "metadata": {
    "id": "G6q8w_h8SeF4"
   },
   "outputs": [],
   "source": [
    "cosine_sim_matrix_3 = util.cos_sim(title_summary_embeddings, title_summary_embeddings)"
   ]
  },
  {
   "cell_type": "markdown",
   "metadata": {
    "id": "e_goOd5sa1lo"
   },
   "source": [
    "## Testing SBERT recommendation system"
   ]
  },
  {
   "cell_type": "code",
   "execution_count": null,
   "metadata": {
    "colab": {
     "base_uri": "https://localhost:8080/"
    },
    "id": "QyBQzZUeaBT6",
    "outputId": "0b33d3f4-9646-48c1-8eb9-4609d3c4e5ab"
   },
   "outputs": [
    {
     "name": "stdout",
     "output_type": "stream",
     "text": [
      "========================================\n",
      "🎬 Recommendations for: \u001b[1mIron Man\u001b[0m\n",
      "========================================\n",
      "1. \u001b[1mIron Man 2\u001b[0m (https://www.imdb.com/title/tt1228705/).\n",
      "2. \u001b[1mAfter Life\u001b[0m (https://www.imdb.com/title/tt8398600/).\n",
      "3. \u001b[1mIron Man Three\u001b[0m (https://www.imdb.com/title/tt1300854/).\n",
      "4. \u001b[1mCaptain America: Civil War\u001b[0m (https://www.imdb.com/title/tt3498820/).\n",
      "5. \u001b[1mSpider-Man: Far from Home\u001b[0m (https://www.imdb.com/title/tt6320628/).\n",
      "6. \u001b[1mThe Avengers\u001b[0m (https://www.imdb.com/title/tt0848228/).\n",
      "7. \u001b[1mAvengers: Age of Ultron\u001b[0m (https://www.imdb.com/title/tt2395427/).\n",
      "8. \u001b[1mI Dream of Jeannie\u001b[0m (https://www.imdb.com/title/tt0058815/).\n",
      "9. \u001b[1mScarface\u001b[0m (https://www.imdb.com/title/tt0086250/).\n",
      "10. \u001b[1mDu rififi chez les hommes\u001b[0m (https://www.imdb.com/title/tt0048021/).\n",
      "\n",
      "========================================\n",
      "\n",
      "========================================\n",
      "🎬 Recommendations for: \u001b[1mThe Dark Knight\u001b[0m\n",
      "========================================\n",
      "1. \u001b[1mBatman\u001b[0m (https://www.imdb.com/title/tt0096895/).\n",
      "2. \u001b[1mBatman Begins\u001b[0m (https://www.imdb.com/title/tt0372784/).\n",
      "3. \u001b[1mThe Dark Knight Rises\u001b[0m (https://www.imdb.com/title/tt1345836/).\n",
      "4. \u001b[1mBatman: The Long Halloween, Part One\u001b[0m (https://www.imdb.com/title/tt14324650/).\n",
      "5. \u001b[1mThe Lego Batman Movie\u001b[0m (https://www.imdb.com/title/tt4116284/).\n",
      "6. \u001b[1mBatman: The Movie\u001b[0m (https://www.imdb.com/title/tt0060153/).\n",
      "7. \u001b[1mBatman Returns\u001b[0m (https://www.imdb.com/title/tt0103776/).\n",
      "8. \u001b[1mBatman Beyond\u001b[0m (https://www.imdb.com/title/tt0147746/).\n",
      "9. \u001b[1mGotham\u001b[0m (https://www.imdb.com/title/tt3749900/).\n",
      "10. \u001b[1mThe Batman\u001b[0m (https://www.imdb.com/title/tt1877830/).\n",
      "\n",
      "========================================\n",
      "\n",
      "========================================\n",
      "🎬 Recommendations for: \u001b[1mInterstellar\u001b[0m\n",
      "========================================\n",
      "1. \u001b[1mThe Adam Project\u001b[0m (https://www.imdb.com/title/tt2463208/).\n",
      "2. \u001b[1mSilent Running\u001b[0m (https://www.imdb.com/title/tt0067756/).\n",
      "3. \u001b[1mE.T. the Extra-Terrestrial\u001b[0m (https://www.imdb.com/title/tt0083866/).\n",
      "4. \u001b[1mFlight of the Navigator\u001b[0m (https://www.imdb.com/title/tt0091059/).\n",
      "5. \u001b[1mStarman\u001b[0m (https://www.imdb.com/title/tt0088172/).\n",
      "6. \u001b[1mScavengers Reign\u001b[0m (https://www.imdb.com/title/tt21056886/).\n",
      "7. \u001b[1mThe Man Who Fell to Earth\u001b[0m (https://www.imdb.com/title/tt0074851/).\n",
      "8. \u001b[1mThe Mosquito Coast\u001b[0m (https://www.imdb.com/title/tt0091557/).\n",
      "9. \u001b[1mThe Space Between Us\u001b[0m (https://www.imdb.com/title/tt3922818/).\n",
      "10. \u001b[1mRed Planet\u001b[0m (https://www.imdb.com/title/tt0199753/).\n",
      "\n",
      "========================================\n",
      "\n"
     ]
    }
   ],
   "source": [
    "# we save all previous concept, but using more powerfull tool like a bert\n",
    "titles = ['Iron Man', 'The Dark Knight', 'Interstellar']\n",
    "\n",
    "for title in titles:\n",
    "    print(\"=\" * 40)\n",
    "    print(f\"🎬 Recommendations for: \\033[1m{title}\\033[0m\")\n",
    "    print(\"=\" * 40)\n",
    "\n",
    "    recommendations = get_recommendation(title, cosine_sim_matrix_3)\n",
    "    for indx, item in enumerate(recommendations.itertuples()):\n",
    "        print(f\"{indx+1}. \\033[1m{item.original_title_name}\\033[0m ({item.title_url}).\")\n",
    "\n",
    "    print(\"\\n\" + \"=\" * 40 + \"\\n\")"
   ]
  },
  {
   "cell_type": "markdown",
   "metadata": {
    "id": "_DGHR9kra-Dr"
   },
   "source": [
    "Overall, we observe results that are both varied and more precise in some aspects, yet still not ideal in others. While Interstellar yields titles with similar concepts, Iron Man's results include movies with dissimilar concepts (not superhero concept, but still similar in some ways with title). Furthermore, this method demonstrates increased accuracy compared to traditional TF-IDF, albeit at a significantly higher computational cost."
   ]
  },
  {
   "cell_type": "markdown",
   "metadata": {
    "id": "vZuwQVVcmxP9"
   },
   "source": [
    "# Making film searching by user's specific requests"
   ]
  },
  {
   "cell_type": "code",
   "execution_count": null,
   "metadata": {
    "id": "l5RssGmuaBP-"
   },
   "outputs": [],
   "source": [
    "text_requests = [\n",
    "    'An amazing superhero film featuring action, shooting, and an engaging plot.',\n",
    "    'War movies that focus on the psychological impact of war.'\n",
    "    ]"
   ]
  },
  {
   "cell_type": "code",
   "execution_count": null,
   "metadata": {
    "id": "rtEgGD45aBMO"
   },
   "outputs": [],
   "source": [
    "def find_movie_by_request_sbert(text, movie_summary_embeddings):\n",
    "  model = SentenceTransformer('all-MiniLM-L6-v2')\n",
    "\n",
    "  request_embedding = model.encode(text, show_progress_bar=False)\n",
    "  cosine_scores = util.cos_sim(request_embedding, movie_summary_embeddings)\n",
    "\n",
    "  top_matches = cosine_scores[0].argsort(descending=True)[:10].numpy()\n",
    "\n",
    "  return df[['original_title_name', 'title_url']].iloc[top_matches]"
   ]
  },
  {
   "cell_type": "code",
   "execution_count": null,
   "metadata": {
    "colab": {
     "base_uri": "https://localhost:8080/"
    },
    "id": "lTYR778vaBJW",
    "outputId": "553aadde-df50-4a6e-e875-026780c35c75"
   },
   "outputs": [
    {
     "name": "stdout",
     "output_type": "stream",
     "text": [
      "========================================\n",
      "🎬 Recommendations for: \u001b[1mAn amazing superhero film featuring action, shooting, and an engaging plot.\u001b[0m\n",
      "========================================\n",
      "1. \u001b[1mSuperman: The Animated Series\u001b[0m (https://www.imdb.com/title/tt0115378/).\n",
      "2. \u001b[1mWhat If...?\u001b[0m (https://www.imdb.com/title/tt10168312/).\n",
      "3. \u001b[1mShooter\u001b[0m (https://www.imdb.com/title/tt4181172/).\n",
      "4. \u001b[1mKingsman: The Secret Service\u001b[0m (https://www.imdb.com/title/tt2802144/).\n",
      "5. \u001b[1mJustice League Unlimited\u001b[0m (https://www.imdb.com/title/tt6025022/).\n",
      "6. \u001b[1mGrindhouse\u001b[0m (https://www.imdb.com/title/tt0462322/).\n",
      "7. \u001b[1mSaaho\u001b[0m (https://www.imdb.com/title/tt6836936/).\n",
      "8. \u001b[1mValerian and the City of a Thousand Planets\u001b[0m (https://www.imdb.com/title/tt2239822/).\n",
      "9. \u001b[1mHancock\u001b[0m (https://www.imdb.com/title/tt0448157/).\n",
      "10. \u001b[1mEl hoyo 2\u001b[0m (https://www.imdb.com/title/tt27729779/).\n",
      "\n",
      "========================================\n",
      "\n",
      "========================================\n",
      "🎬 Recommendations for: \u001b[1mWar movies that focus on the psychological impact of war.\u001b[0m\n",
      "========================================\n",
      "1. \u001b[1mThe World at War\u001b[0m (https://www.imdb.com/title/tt0071075/).\n",
      "2. \u001b[1mHitler: The Rise of Evil\u001b[0m (https://www.imdb.com/title/tt0346293/).\n",
      "3. \u001b[1mThe Greatest Beer Run Ever\u001b[0m (https://www.imdb.com/title/tt10268488/).\n",
      "4. \u001b[1mKurtlar Vadisi: Irak\u001b[0m (https://www.imdb.com/title/tt0493264/).\n",
      "5. \u001b[1mCasualties of War\u001b[0m (https://www.imdb.com/title/tt0097027/).\n",
      "6. \u001b[1mThey Shall Not Grow Old\u001b[0m (https://www.imdb.com/title/tt7905466/).\n",
      "7. \u001b[1mYume\u001b[0m (https://www.imdb.com/title/tt0100998/).\n",
      "8. \u001b[1mApocalypse: La 2ème guerre mondiale\u001b[0m (https://www.imdb.com/title/tt1508238/).\n",
      "9. \u001b[1mEuropa Europa\u001b[0m (https://www.imdb.com/title/tt0099776/).\n",
      "10. \u001b[1mThe Thin Red Line\u001b[0m (https://www.imdb.com/title/tt0120863/).\n",
      "\n",
      "========================================\n",
      "\n"
     ]
    }
   ],
   "source": [
    "for text in text_requests:\n",
    "    print(\"=\" * 40)\n",
    "    print(f\"🎬 Recommendations for: \\033[1m{text}\\033[0m\")\n",
    "    print(\"=\" * 40)\n",
    "\n",
    "    recommendations = find_movie_by_request_sbert(text, title_summary_embeddings)\n",
    "    for indx, item in enumerate(recommendations.itertuples()):\n",
    "        print(f\"{indx+1}. \\033[1m{item.original_title_name}\\033[0m ({item.title_url}).\")\n",
    "\n",
    "    print(\"\\n\" + \"=\" * 40 + \"\\n\")"
   ]
  },
  {
   "cell_type": "markdown",
   "metadata": {
    "id": "FB8OJTXTnDjc"
   },
   "source": [
    "In final get not really bad result!"
   ]
  },
  {
   "cell_type": "markdown",
   "metadata": {
    "id": "ewzF60qknLOe"
   },
   "source": [
    "DONE"
   ]
  }
 ],
 "metadata": {
  "colab": {
   "provenance": []
  },
  "kernelspec": {
   "display_name": "Python 3",
   "name": "python3"
  },
  "language_info": {
   "name": "python"
  }
 },
 "nbformat": 4,
 "nbformat_minor": 0
}
